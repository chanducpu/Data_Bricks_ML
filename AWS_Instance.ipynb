{
 "cells": [
  {
   "cell_type": "code",
   "execution_count": 0,
   "metadata": {
    "application/vnd.databricks.v1+cell": {
     "cellMetadata": {
      "byteLimit": 2048000,
      "rowLimit": 10000
     },
     "inputWidgets": {},
     "nuid": "59c4bda7-506e-46fe-9a75-e32a2c5fbae7",
     "showTitle": false,
     "title": ""
    }
   },
   "outputs": [
    {
     "output_type": "stream",
     "name": "stdout",
     "output_type": "stream",
     "text": [
      "\u001B[43mNote: you may need to restart the kernel using dbutils.library.restartPython() to use updated packages.\u001B[0m\nCollecting catboost\n  Downloading catboost-1.2.3-cp310-cp310-manylinux2014_x86_64.whl (98.5 MB)\n     ━━━━━━━━━━━━━━━━━━━━━━━━━━━━━━━━━━━━━━━━ 98.5/98.5 MB 17.3 MB/s eta 0:00:00\nRequirement already satisfied: scipy in /databricks/python3/lib/python3.10/site-packages (from catboost) (1.9.1)\nRequirement already satisfied: plotly in /databricks/python3/lib/python3.10/site-packages (from catboost) (5.9.0)\nRequirement already satisfied: six in /usr/lib/python3/dist-packages (from catboost) (1.16.0)\nRequirement already satisfied: matplotlib in /databricks/python3/lib/python3.10/site-packages (from catboost) (3.5.2)\nRequirement already satisfied: numpy>=1.16.0 in /databricks/python3/lib/python3.10/site-packages (from catboost) (1.21.5)\nRequirement already satisfied: pandas>=0.24 in /databricks/python3/lib/python3.10/site-packages (from catboost) (1.4.4)\nCollecting graphviz\n  Downloading graphviz-0.20.3-py3-none-any.whl (47 kB)\n     ━━━━━━━━━━━━━━━━━━━━━━━━━━━━━━━━━━━━━━━━ 47.1/47.1 kB 7.7 MB/s eta 0:00:00\nRequirement already satisfied: python-dateutil>=2.8.1 in /databricks/python3/lib/python3.10/site-packages (from pandas>=0.24->catboost) (2.8.2)\nRequirement already satisfied: pytz>=2020.1 in /databricks/python3/lib/python3.10/site-packages (from pandas>=0.24->catboost) (2022.1)\nRequirement already satisfied: kiwisolver>=1.0.1 in /databricks/python3/lib/python3.10/site-packages (from matplotlib->catboost) (1.4.2)\nRequirement already satisfied: packaging>=20.0 in /databricks/python3/lib/python3.10/site-packages (from matplotlib->catboost) (21.3)\nRequirement already satisfied: fonttools>=4.22.0 in /databricks/python3/lib/python3.10/site-packages (from matplotlib->catboost) (4.25.0)\nRequirement already satisfied: pyparsing>=2.2.1 in /databricks/python3/lib/python3.10/site-packages (from matplotlib->catboost) (3.0.9)\nRequirement already satisfied: cycler>=0.10 in /databricks/python3/lib/python3.10/site-packages (from matplotlib->catboost) (0.11.0)\nRequirement already satisfied: pillow>=6.2.0 in /databricks/python3/lib/python3.10/site-packages (from matplotlib->catboost) (9.2.0)\nRequirement already satisfied: tenacity>=6.2.0 in /databricks/python3/lib/python3.10/site-packages (from plotly->catboost) (8.1.0)\nInstalling collected packages: graphviz, catboost\nSuccessfully installed catboost-1.2.3 graphviz-0.20.3\n\u001B[43mNote: you may need to restart the kernel using dbutils.library.restartPython() to use updated packages.\u001B[0m\n\u001B[43mNote: you may need to restart the kernel using dbutils.library.restartPython() to use updated packages.\u001B[0m\nRequirement already satisfied: catboost in /local_disk0/.ephemeral_nfs/envs/pythonEnv-7053b7cd-d135-465a-8c80-4cbbe4f02e94/lib/python3.10/site-packages (1.2.3)\nCollecting xgboost\n  Downloading xgboost-2.0.3-py3-none-manylinux2014_x86_64.whl (297.1 MB)\n     ━━━━━━━━━━━━━━━━━━━━━━━━━━━━━━━━━━━━━━━ 297.1/297.1 MB 3.7 MB/s eta 0:00:00\nRequirement already satisfied: plotly in /databricks/python3/lib/python3.10/site-packages (from catboost) (5.9.0)\nRequirement already satisfied: matplotlib in /databricks/python3/lib/python3.10/site-packages (from catboost) (3.5.2)\nRequirement already satisfied: numpy>=1.16.0 in /databricks/python3/lib/python3.10/site-packages (from catboost) (1.21.5)\nRequirement already satisfied: graphviz in /local_disk0/.ephemeral_nfs/envs/pythonEnv-7053b7cd-d135-465a-8c80-4cbbe4f02e94/lib/python3.10/site-packages (from catboost) (0.20.3)\nRequirement already satisfied: six in /usr/lib/python3/dist-packages (from catboost) (1.16.0)\nRequirement already satisfied: scipy in /databricks/python3/lib/python3.10/site-packages (from catboost) (1.9.1)\nRequirement already satisfied: pandas>=0.24 in /databricks/python3/lib/python3.10/site-packages (from catboost) (1.4.4)\nRequirement already satisfied: python-dateutil>=2.8.1 in /databricks/python3/lib/python3.10/site-packages (from pandas>=0.24->catboost) (2.8.2)\nRequirement already satisfied: pytz>=2020.1 in /databricks/python3/lib/python3.10/site-packages (from pandas>=0.24->catboost) (2022.1)\nRequirement already satisfied: cycler>=0.10 in /databricks/python3/lib/python3.10/site-packages (from matplotlib->catboost) (0.11.0)\nRequirement already satisfied: fonttools>=4.22.0 in /databricks/python3/lib/python3.10/site-packages (from matplotlib->catboost) (4.25.0)\nRequirement already satisfied: packaging>=20.0 in /databricks/python3/lib/python3.10/site-packages (from matplotlib->catboost) (21.3)\nRequirement already satisfied: kiwisolver>=1.0.1 in /databricks/python3/lib/python3.10/site-packages (from matplotlib->catboost) (1.4.2)\nRequirement already satisfied: pyparsing>=2.2.1 in /databricks/python3/lib/python3.10/site-packages (from matplotlib->catboost) (3.0.9)\nRequirement already satisfied: pillow>=6.2.0 in /databricks/python3/lib/python3.10/site-packages (from matplotlib->catboost) (9.2.0)\nRequirement already satisfied: tenacity>=6.2.0 in /databricks/python3/lib/python3.10/site-packages (from plotly->catboost) (8.1.0)\nInstalling collected packages: xgboost\nSuccessfully installed xgboost-2.0.3\n\u001B[43mNote: you may need to restart the kernel using dbutils.library.restartPython() to use updated packages.\u001B[0m\n"
     ]
    }
   ],
   "source": [
    "%pip install catboost\n",
    "%pip install catboost xgboost\n",
    "import pandas as pd\n",
    "import matplotlib.pyplot as plt\n",
    "import seaborn as sns\n",
    "import numpy as np\n",
    "from sklearn.preprocessing import MinMaxScaler\n",
    "from sklearn.model_selection import train_test_split\n",
    "from sklearn.linear_model import LinearRegression\n",
    "from sklearn.metrics import mean_squared_error, r2_score\n",
    "from sklearn.preprocessing import OneHotEncoder\n",
    "from sklearn.compose import ColumnTransformer\n",
    "from sklearn.pipeline import Pipeline\n",
    "from sklearn.tree import DecisionTreeRegressor\n",
    "from sklearn.preprocessing import StandardScaler\n",
    "from sklearn.pipeline import make_pipeline\n",
    "from sklearn.svm import SVR\n",
    "from sklearn.ensemble import RandomForestRegressor\n",
    "from sklearn.ensemble import GradientBoostingRegressor\n",
    "from catboost import CatBoostRegressor\n",
    "from xgboost import XGBRegressor\n",
    "import warnings"
   ]
  },
  {
   "cell_type": "code",
   "execution_count": 0,
   "metadata": {
    "application/vnd.databricks.v1+cell": {
     "cellMetadata": {
      "byteLimit": 2048000,
      "rowLimit": 10000
     },
     "inputWidgets": {},
     "nuid": "69a4cf82-8d8b-4806-bb3f-827dff102c5f",
     "showTitle": false,
     "title": ""
    }
   },
   "outputs": [
    {
     "output_type": "execute_result",
     "data": {
      "text/html": [
       "<div>\n",
       "<style scoped>\n",
       "    .dataframe tbody tr th:only-of-type {\n",
       "        vertical-align: middle;\n",
       "    }\n",
       "\n",
       "    .dataframe tbody tr th {\n",
       "        vertical-align: top;\n",
       "    }\n",
       "\n",
       "    .dataframe thead th {\n",
       "        text-align: right;\n",
       "    }\n",
       "</style>\n",
       "<table border=\"1\" class=\"dataframe\">\n",
       "  <thead>\n",
       "    <tr style=\"text-align: right;\">\n",
       "      <th></th>\n",
       "      <th>year</th>\n",
       "      <th>make</th>\n",
       "      <th>model</th>\n",
       "      <th>trim</th>\n",
       "      <th>body</th>\n",
       "      <th>transmission</th>\n",
       "      <th>vin</th>\n",
       "      <th>state</th>\n",
       "      <th>condition</th>\n",
       "      <th>odometer</th>\n",
       "      <th>color</th>\n",
       "      <th>interior</th>\n",
       "      <th>seller</th>\n",
       "      <th>mmr</th>\n",
       "      <th>sellingprice</th>\n",
       "      <th>saledate</th>\n",
       "    </tr>\n",
       "  </thead>\n",
       "  <tbody>\n",
       "    <tr>\n",
       "      <th>0</th>\n",
       "      <td>2015</td>\n",
       "      <td>Kia</td>\n",
       "      <td>Sorento</td>\n",
       "      <td>LX</td>\n",
       "      <td>SUV</td>\n",
       "      <td>automatic</td>\n",
       "      <td>5xyktca69fg566472</td>\n",
       "      <td>ca</td>\n",
       "      <td>5</td>\n",
       "      <td>16639</td>\n",
       "      <td>white</td>\n",
       "      <td>black</td>\n",
       "      <td>kia motors america  inc</td>\n",
       "      <td>20500</td>\n",
       "      <td>21500</td>\n",
       "      <td>Tue Dec 16 2014 12:30:00 GMT-0800 (PST)</td>\n",
       "    </tr>\n",
       "    <tr>\n",
       "      <th>1</th>\n",
       "      <td>2015</td>\n",
       "      <td>Kia</td>\n",
       "      <td>Sorento</td>\n",
       "      <td>LX</td>\n",
       "      <td>SUV</td>\n",
       "      <td>automatic</td>\n",
       "      <td>5xyktca69fg561319</td>\n",
       "      <td>ca</td>\n",
       "      <td>5</td>\n",
       "      <td>9393</td>\n",
       "      <td>white</td>\n",
       "      <td>beige</td>\n",
       "      <td>kia motors america  inc</td>\n",
       "      <td>20800</td>\n",
       "      <td>21500</td>\n",
       "      <td>Tue Dec 16 2014 12:30:00 GMT-0800 (PST)</td>\n",
       "    </tr>\n",
       "    <tr>\n",
       "      <th>2</th>\n",
       "      <td>2014</td>\n",
       "      <td>BMW</td>\n",
       "      <td>3 Series</td>\n",
       "      <td>328i SULEV</td>\n",
       "      <td>Sedan</td>\n",
       "      <td>automatic</td>\n",
       "      <td>wba3c1c51ek116351</td>\n",
       "      <td>ca</td>\n",
       "      <td>45</td>\n",
       "      <td>1331</td>\n",
       "      <td>gray</td>\n",
       "      <td>black</td>\n",
       "      <td>financial services remarketing (lease)</td>\n",
       "      <td>31900</td>\n",
       "      <td>30000</td>\n",
       "      <td>Thu Jan 15 2015 04:30:00 GMT-0800 (PST)</td>\n",
       "    </tr>\n",
       "    <tr>\n",
       "      <th>3</th>\n",
       "      <td>2015</td>\n",
       "      <td>Volvo</td>\n",
       "      <td>S60</td>\n",
       "      <td>T5</td>\n",
       "      <td>Sedan</td>\n",
       "      <td>automatic</td>\n",
       "      <td>yv1612tb4f1310987</td>\n",
       "      <td>ca</td>\n",
       "      <td>41</td>\n",
       "      <td>14282</td>\n",
       "      <td>white</td>\n",
       "      <td>black</td>\n",
       "      <td>volvo na rep/world omni</td>\n",
       "      <td>27500</td>\n",
       "      <td>27750</td>\n",
       "      <td>Thu Jan 29 2015 04:30:00 GMT-0800 (PST)</td>\n",
       "    </tr>\n",
       "    <tr>\n",
       "      <th>4</th>\n",
       "      <td>2014</td>\n",
       "      <td>BMW</td>\n",
       "      <td>6 Series Gran Coupe</td>\n",
       "      <td>650i</td>\n",
       "      <td>Sedan</td>\n",
       "      <td>automatic</td>\n",
       "      <td>wba6b2c57ed129731</td>\n",
       "      <td>ca</td>\n",
       "      <td>43</td>\n",
       "      <td>2641</td>\n",
       "      <td>gray</td>\n",
       "      <td>black</td>\n",
       "      <td>financial services remarketing (lease)</td>\n",
       "      <td>66000</td>\n",
       "      <td>67000</td>\n",
       "      <td>Thu Dec 18 2014 12:30:00 GMT-0800 (PST)</td>\n",
       "    </tr>\n",
       "  </tbody>\n",
       "</table>\n",
       "</div>"
      ],
      "text/plain": [
       "   year   make  ... sellingprice                                 saledate\n",
       "0  2015    Kia  ...        21500  Tue Dec 16 2014 12:30:00 GMT-0800 (PST)\n",
       "1  2015    Kia  ...        21500  Tue Dec 16 2014 12:30:00 GMT-0800 (PST)\n",
       "2  2014    BMW  ...        30000  Thu Jan 15 2015 04:30:00 GMT-0800 (PST)\n",
       "3  2015  Volvo  ...        27750  Thu Jan 29 2015 04:30:00 GMT-0800 (PST)\n",
       "4  2014    BMW  ...        67000  Thu Dec 18 2014 12:30:00 GMT-0800 (PST)\n",
       "\n",
       "[5 rows x 16 columns]"
      ]
     },
     "execution_count": 3,
     "metadata": {},
     "output_type": "execute_result"
    }
   ],
   "source": [
    "df = spark.read.csv('s3://bigdata-carsales-2015/', header=True)\n",
    "df = df.toPandas()\n",
    "df.head()"
   ]
  },
  {
   "cell_type": "code",
   "execution_count": 0,
   "metadata": {
    "application/vnd.databricks.v1+cell": {
     "cellMetadata": {
      "byteLimit": 2048000,
      "rowLimit": 10000
     },
     "inputWidgets": {},
     "nuid": "cddc1318-926f-4a14-9d8f-df5de60c0eb9",
     "showTitle": false,
     "title": ""
    }
   },
   "outputs": [
    {
     "output_type": "execute_result",
     "data": {
      "text/plain": [
       "(558837, 16)"
      ]
     },
     "execution_count": 4,
     "metadata": {},
     "output_type": "execute_result"
    }
   ],
   "source": [
    "df.shape"
   ]
  },
  {
   "cell_type": "code",
   "execution_count": 0,
   "metadata": {
    "application/vnd.databricks.v1+cell": {
     "cellMetadata": {
      "byteLimit": 2048000,
      "rowLimit": 10000
     },
     "inputWidgets": {},
     "nuid": "22eaba30-ad6d-4f40-ba29-97ba4d384c1f",
     "showTitle": false,
     "title": ""
    }
   },
   "outputs": [
    {
     "output_type": "execute_result",
     "data": {
      "text/html": [
       "<div>\n",
       "<style scoped>\n",
       "    .dataframe tbody tr th:only-of-type {\n",
       "        vertical-align: middle;\n",
       "    }\n",
       "\n",
       "    .dataframe tbody tr th {\n",
       "        vertical-align: top;\n",
       "    }\n",
       "\n",
       "    .dataframe thead th {\n",
       "        text-align: right;\n",
       "    }\n",
       "</style>\n",
       "<table border=\"1\" class=\"dataframe\">\n",
       "  <thead>\n",
       "    <tr style=\"text-align: right;\">\n",
       "      <th></th>\n",
       "      <th>year</th>\n",
       "      <th>make</th>\n",
       "      <th>model</th>\n",
       "      <th>trim</th>\n",
       "      <th>body</th>\n",
       "      <th>transmission</th>\n",
       "      <th>vin</th>\n",
       "      <th>state</th>\n",
       "      <th>condition</th>\n",
       "      <th>odometer</th>\n",
       "      <th>color</th>\n",
       "      <th>interior</th>\n",
       "      <th>seller</th>\n",
       "      <th>mmr</th>\n",
       "      <th>sellingprice</th>\n",
       "      <th>saledate</th>\n",
       "    </tr>\n",
       "  </thead>\n",
       "  <tbody>\n",
       "    <tr>\n",
       "      <th>0</th>\n",
       "      <td>2015</td>\n",
       "      <td>Kia</td>\n",
       "      <td>Sorento</td>\n",
       "      <td>LX</td>\n",
       "      <td>SUV</td>\n",
       "      <td>automatic</td>\n",
       "      <td>5xyktca69fg566472</td>\n",
       "      <td>ca</td>\n",
       "      <td>5</td>\n",
       "      <td>16639</td>\n",
       "      <td>white</td>\n",
       "      <td>black</td>\n",
       "      <td>kia motors america  inc</td>\n",
       "      <td>20500</td>\n",
       "      <td>21500</td>\n",
       "      <td>Tue Dec 16 2014 12:30:00 GMT-0800 (PST)</td>\n",
       "    </tr>\n",
       "    <tr>\n",
       "      <th>1</th>\n",
       "      <td>2015</td>\n",
       "      <td>Kia</td>\n",
       "      <td>Sorento</td>\n",
       "      <td>LX</td>\n",
       "      <td>SUV</td>\n",
       "      <td>automatic</td>\n",
       "      <td>5xyktca69fg561319</td>\n",
       "      <td>ca</td>\n",
       "      <td>5</td>\n",
       "      <td>9393</td>\n",
       "      <td>white</td>\n",
       "      <td>beige</td>\n",
       "      <td>kia motors america  inc</td>\n",
       "      <td>20800</td>\n",
       "      <td>21500</td>\n",
       "      <td>Tue Dec 16 2014 12:30:00 GMT-0800 (PST)</td>\n",
       "    </tr>\n",
       "    <tr>\n",
       "      <th>2</th>\n",
       "      <td>2014</td>\n",
       "      <td>BMW</td>\n",
       "      <td>3 Series</td>\n",
       "      <td>328i SULEV</td>\n",
       "      <td>Sedan</td>\n",
       "      <td>automatic</td>\n",
       "      <td>wba3c1c51ek116351</td>\n",
       "      <td>ca</td>\n",
       "      <td>45</td>\n",
       "      <td>1331</td>\n",
       "      <td>gray</td>\n",
       "      <td>black</td>\n",
       "      <td>financial services remarketing (lease)</td>\n",
       "      <td>31900</td>\n",
       "      <td>30000</td>\n",
       "      <td>Thu Jan 15 2015 04:30:00 GMT-0800 (PST)</td>\n",
       "    </tr>\n",
       "    <tr>\n",
       "      <th>3</th>\n",
       "      <td>2015</td>\n",
       "      <td>Volvo</td>\n",
       "      <td>S60</td>\n",
       "      <td>T5</td>\n",
       "      <td>Sedan</td>\n",
       "      <td>automatic</td>\n",
       "      <td>yv1612tb4f1310987</td>\n",
       "      <td>ca</td>\n",
       "      <td>41</td>\n",
       "      <td>14282</td>\n",
       "      <td>white</td>\n",
       "      <td>black</td>\n",
       "      <td>volvo na rep/world omni</td>\n",
       "      <td>27500</td>\n",
       "      <td>27750</td>\n",
       "      <td>Thu Jan 29 2015 04:30:00 GMT-0800 (PST)</td>\n",
       "    </tr>\n",
       "    <tr>\n",
       "      <th>4</th>\n",
       "      <td>2014</td>\n",
       "      <td>BMW</td>\n",
       "      <td>6 Series Gran Coupe</td>\n",
       "      <td>650i</td>\n",
       "      <td>Sedan</td>\n",
       "      <td>automatic</td>\n",
       "      <td>wba6b2c57ed129731</td>\n",
       "      <td>ca</td>\n",
       "      <td>43</td>\n",
       "      <td>2641</td>\n",
       "      <td>gray</td>\n",
       "      <td>black</td>\n",
       "      <td>financial services remarketing (lease)</td>\n",
       "      <td>66000</td>\n",
       "      <td>67000</td>\n",
       "      <td>Thu Dec 18 2014 12:30:00 GMT-0800 (PST)</td>\n",
       "    </tr>\n",
       "  </tbody>\n",
       "</table>\n",
       "</div>"
      ],
      "text/plain": [
       "   year   make  ... sellingprice                                 saledate\n",
       "0  2015    Kia  ...        21500  Tue Dec 16 2014 12:30:00 GMT-0800 (PST)\n",
       "1  2015    Kia  ...        21500  Tue Dec 16 2014 12:30:00 GMT-0800 (PST)\n",
       "2  2014    BMW  ...        30000  Thu Jan 15 2015 04:30:00 GMT-0800 (PST)\n",
       "3  2015  Volvo  ...        27750  Thu Jan 29 2015 04:30:00 GMT-0800 (PST)\n",
       "4  2014    BMW  ...        67000  Thu Dec 18 2014 12:30:00 GMT-0800 (PST)\n",
       "\n",
       "[5 rows x 16 columns]"
      ]
     },
     "execution_count": 5,
     "metadata": {},
     "output_type": "execute_result"
    }
   ],
   "source": [
    "df.head()"
   ]
  },
  {
   "cell_type": "code",
   "execution_count": 0,
   "metadata": {
    "application/vnd.databricks.v1+cell": {
     "cellMetadata": {
      "byteLimit": 2048000,
      "rowLimit": 10000
     },
     "inputWidgets": {},
     "nuid": "445e4307-6ea6-4955-b193-a7a295cd0f84",
     "showTitle": false,
     "title": ""
    }
   },
   "outputs": [
    {
     "output_type": "execute_result",
     "data": {
      "text/plain": [
       "year                0\n",
       "make            10301\n",
       "model           10399\n",
       "trim            10651\n",
       "body            13195\n",
       "transmission    65352\n",
       "vin                 4\n",
       "state               0\n",
       "condition       11820\n",
       "odometer           94\n",
       "color             749\n",
       "interior          749\n",
       "seller              0\n",
       "mmr                38\n",
       "sellingprice       12\n",
       "saledate           12\n",
       "dtype: int64"
      ]
     },
     "execution_count": 6,
     "metadata": {},
     "output_type": "execute_result"
    }
   ],
   "source": [
    "df.isna().sum()\n"
   ]
  },
  {
   "cell_type": "code",
   "execution_count": 0,
   "metadata": {
    "application/vnd.databricks.v1+cell": {
     "cellMetadata": {
      "byteLimit": 2048000,
      "rowLimit": 10000
     },
     "inputWidgets": {},
     "nuid": "35326969-0d92-4368-a9d8-44f0d4242bbc",
     "showTitle": false,
     "title": ""
    }
   },
   "outputs": [],
   "source": [
    "df.dropna(inplace=True)"
   ]
  },
  {
   "cell_type": "code",
   "execution_count": 0,
   "metadata": {
    "application/vnd.databricks.v1+cell": {
     "cellMetadata": {
      "byteLimit": 2048000,
      "rowLimit": 10000
     },
     "inputWidgets": {},
     "nuid": "d1765453-b4cf-43e5-975b-c89645fd4cbc",
     "showTitle": false,
     "title": ""
    }
   },
   "outputs": [
    {
     "output_type": "execute_result",
     "data": {
      "text/plain": [
       "year            0\n",
       "make            0\n",
       "model           0\n",
       "trim            0\n",
       "body            0\n",
       "transmission    0\n",
       "vin             0\n",
       "state           0\n",
       "condition       0\n",
       "odometer        0\n",
       "color           0\n",
       "interior        0\n",
       "seller          0\n",
       "mmr             0\n",
       "sellingprice    0\n",
       "saledate        0\n",
       "dtype: int64"
      ]
     },
     "execution_count": 8,
     "metadata": {},
     "output_type": "execute_result"
    }
   ],
   "source": [
    "df.isna().sum()"
   ]
  },
  {
   "cell_type": "code",
   "execution_count": 0,
   "metadata": {
    "application/vnd.databricks.v1+cell": {
     "cellMetadata": {
      "byteLimit": 2048000,
      "rowLimit": 10000
     },
     "inputWidgets": {},
     "nuid": "f6a6f593-de26-44d6-85aa-6fe0bb43ebd0",
     "showTitle": false,
     "title": ""
    }
   },
   "outputs": [
    {
     "output_type": "execute_result",
     "data": {
      "text/plain": [
       "'Tue Dec 16 2014 12:30:00 GMT-0800 (PST)'"
      ]
     },
     "execution_count": 9,
     "metadata": {},
     "output_type": "execute_result"
    }
   ],
   "source": [
    "df['saledate'][0]"
   ]
  },
  {
   "cell_type": "code",
   "execution_count": 0,
   "metadata": {
    "application/vnd.databricks.v1+cell": {
     "cellMetadata": {},
     "inputWidgets": {},
     "nuid": "a5e302ef-d0d3-4d39-901b-65527a15b5f3",
     "showTitle": false,
     "title": ""
    }
   },
   "outputs": [],
   "source": []
  },
  {
   "cell_type": "code",
   "execution_count": 0,
   "metadata": {
    "application/vnd.databricks.v1+cell": {
     "cellMetadata": {
      "byteLimit": 2048000,
      "rowLimit": 10000
     },
     "inputWidgets": {},
     "nuid": "14d6393b-4ea1-4177-a771-21d21a096b3b",
     "showTitle": false,
     "title": ""
    }
   },
   "outputs": [
    {
     "output_type": "execute_result",
     "data": {
      "text/plain": [
       "year            object\n",
       "make            object\n",
       "model           object\n",
       "trim            object\n",
       "body            object\n",
       "transmission    object\n",
       "vin             object\n",
       "state           object\n",
       "condition       object\n",
       "odometer        object\n",
       "color           object\n",
       "interior        object\n",
       "seller          object\n",
       "mmr             object\n",
       "sellingprice    object\n",
       "saledate        object\n",
       "dtype: object"
      ]
     },
     "execution_count": 10,
     "metadata": {},
     "output_type": "execute_result"
    }
   ],
   "source": [
    "df.dtypes"
   ]
  },
  {
   "cell_type": "code",
   "execution_count": 0,
   "metadata": {
    "application/vnd.databricks.v1+cell": {
     "cellMetadata": {
      "byteLimit": 2048000,
      "rowLimit": 10000
     },
     "inputWidgets": {},
     "nuid": "8d3332c5-23cc-483c-871f-ad08d5f411d9",
     "showTitle": false,
     "title": ""
    }
   },
   "outputs": [
    {
     "output_type": "execute_result",
     "data": {
      "text/plain": [
       "Index(['year', 'make', 'model', 'trim', 'body', 'transmission', 'vin', 'state',\n",
       "       'condition', 'odometer', 'color', 'interior', 'seller', 'mmr',\n",
       "       'sellingprice', 'saledate'],\n",
       "      dtype='object')"
      ]
     },
     "execution_count": 11,
     "metadata": {},
     "output_type": "execute_result"
    }
   ],
   "source": [
    "df.columns"
   ]
  },
  {
   "cell_type": "code",
   "execution_count": 0,
   "metadata": {
    "application/vnd.databricks.v1+cell": {
     "cellMetadata": {
      "byteLimit": 2048000,
      "rowLimit": 10000
     },
     "inputWidgets": {},
     "nuid": "a3f6b845-dcce-4611-aa58-e32cf8d1a281",
     "showTitle": false,
     "title": ""
    }
   },
   "outputs": [],
   "source": [
    "def infer_and_set_types(dataframe):\n",
    "    for column in dataframe.columns:\n",
    "        first_val = dataframe[column].iloc[0]\n",
    "        try:\n",
    "            pd.to_numeric(dataframe[column], errors='raise')\n",
    "            dataframe[column] = dataframe[column].astype(int)\n",
    "        except ValueError:\n",
    "                dataframe[column] = dataframe[column].astype(str)\n",
    "                print(f\"{column} is treated as object (string or mixed type).\")\n",
    "\n",
    "    return dataframe\n"
   ]
  },
  {
   "cell_type": "code",
   "execution_count": 0,
   "metadata": {
    "application/vnd.databricks.v1+cell": {
     "cellMetadata": {
      "byteLimit": 2048000,
      "rowLimit": 10000
     },
     "inputWidgets": {},
     "nuid": "5db10d7e-c0c5-4c94-b981-d981728b3ff5",
     "showTitle": false,
     "title": ""
    }
   },
   "outputs": [
    {
     "output_type": "stream",
     "name": "stdout",
     "output_type": "stream",
     "text": [
      "make is treated as object (string or mixed type).\nmodel is treated as object (string or mixed type).\ntrim is treated as object (string or mixed type).\nbody is treated as object (string or mixed type).\ntransmission is treated as object (string or mixed type).\nvin is treated as object (string or mixed type).\nstate is treated as object (string or mixed type).\ncolor is treated as object (string or mixed type).\ninterior is treated as object (string or mixed type).\nseller is treated as object (string or mixed type).\nsaledate is treated as object (string or mixed type).\n"
     ]
    }
   ],
   "source": [
    "df=infer_and_set_types(df)\n",
    "#df['year'] = pd.to_datetime(df['year'].astype(str), errors='coerce')\n",
    "df['saledate'] = df['saledate'].str.rsplit(' ', 1).str[0]\n",
    "df['saledate'] = pd.to_datetime(df['saledate'], format='%a %b %d %Y %H:%M:%S GMT%z', errors='coerce')\n"
   ]
  },
  {
   "cell_type": "code",
   "execution_count": 0,
   "metadata": {
    "application/vnd.databricks.v1+cell": {
     "cellMetadata": {
      "byteLimit": 2048000,
      "rowLimit": 10000
     },
     "inputWidgets": {},
     "nuid": "7b550914-10cd-4306-8d3e-fb8d93d89115",
     "showTitle": false,
     "title": ""
    }
   },
   "outputs": [],
   "source": [
    "df['saledate'] = pd.to_datetime(df['saledate'], utc=True)\n",
    "df['sale_Date'] = df['saledate'].dt.date\n",
    "df['sale_year'] = df['saledate'].dt.year\n",
    "df['sale_Weekday'] = df['saledate'].dt.day_name()\n",
    "df['sale_Time'] = df['saledate'].dt.strftime('%H:%M:%S')\n",
    "df['Month'] = df['saledate'].dt.month_name() "
   ]
  },
  {
   "cell_type": "code",
   "execution_count": 0,
   "metadata": {
    "application/vnd.databricks.v1+cell": {
     "cellMetadata": {
      "byteLimit": 2048000,
      "rowLimit": 10000
     },
     "inputWidgets": {},
     "nuid": "d69bf231-7345-42c0-8104-63676cee21f7",
     "showTitle": false,
     "title": ""
    }
   },
   "outputs": [
    {
     "output_type": "execute_result",
     "data": {
      "text/plain": [
       "year            0\n",
       "make            0\n",
       "model           0\n",
       "trim            0\n",
       "body            0\n",
       "transmission    0\n",
       "vin             0\n",
       "state           0\n",
       "condition       0\n",
       "odometer        0\n",
       "color           0\n",
       "interior        0\n",
       "seller          0\n",
       "mmr             0\n",
       "sellingprice    0\n",
       "saledate        0\n",
       "sale_Date       0\n",
       "sale_year       0\n",
       "sale_Weekday    0\n",
       "sale_Time       0\n",
       "Month           0\n",
       "dtype: int64"
      ]
     },
     "execution_count": 15,
     "metadata": {},
     "output_type": "execute_result"
    }
   ],
   "source": [
    "df.isna().sum()"
   ]
  },
  {
   "cell_type": "code",
   "execution_count": 0,
   "metadata": {
    "application/vnd.databricks.v1+cell": {
     "cellMetadata": {
      "byteLimit": 2048000,
      "rowLimit": 10000
     },
     "inputWidgets": {},
     "nuid": "086e844a-e442-450b-8826-364260fafb5d",
     "showTitle": false,
     "title": ""
    }
   },
   "outputs": [
    {
     "output_type": "execute_result",
     "data": {
      "text/html": [
       "<div>\n",
       "<style scoped>\n",
       "    .dataframe tbody tr th:only-of-type {\n",
       "        vertical-align: middle;\n",
       "    }\n",
       "\n",
       "    .dataframe tbody tr th {\n",
       "        vertical-align: top;\n",
       "    }\n",
       "\n",
       "    .dataframe thead th {\n",
       "        text-align: right;\n",
       "    }\n",
       "</style>\n",
       "<table border=\"1\" class=\"dataframe\">\n",
       "  <thead>\n",
       "    <tr style=\"text-align: right;\">\n",
       "      <th></th>\n",
       "      <th>year</th>\n",
       "      <th>make</th>\n",
       "      <th>model</th>\n",
       "      <th>trim</th>\n",
       "      <th>body</th>\n",
       "      <th>transmission</th>\n",
       "      <th>vin</th>\n",
       "      <th>state</th>\n",
       "      <th>condition</th>\n",
       "      <th>odometer</th>\n",
       "      <th>color</th>\n",
       "      <th>interior</th>\n",
       "      <th>seller</th>\n",
       "      <th>mmr</th>\n",
       "      <th>sellingprice</th>\n",
       "      <th>saledate</th>\n",
       "      <th>sale_Date</th>\n",
       "      <th>sale_year</th>\n",
       "      <th>sale_Weekday</th>\n",
       "      <th>sale_Time</th>\n",
       "      <th>Month</th>\n",
       "    </tr>\n",
       "  </thead>\n",
       "  <tbody>\n",
       "    <tr>\n",
       "      <th>0</th>\n",
       "      <td>2015</td>\n",
       "      <td>Kia</td>\n",
       "      <td>Sorento</td>\n",
       "      <td>LX</td>\n",
       "      <td>SUV</td>\n",
       "      <td>automatic</td>\n",
       "      <td>5xyktca69fg566472</td>\n",
       "      <td>ca</td>\n",
       "      <td>5</td>\n",
       "      <td>16639</td>\n",
       "      <td>white</td>\n",
       "      <td>black</td>\n",
       "      <td>kia motors america  inc</td>\n",
       "      <td>20500</td>\n",
       "      <td>21500</td>\n",
       "      <td>2014-12-16 20:30:00+00:00</td>\n",
       "      <td>2014-12-16</td>\n",
       "      <td>2014</td>\n",
       "      <td>Tuesday</td>\n",
       "      <td>20:30:00</td>\n",
       "      <td>December</td>\n",
       "    </tr>\n",
       "    <tr>\n",
       "      <th>1</th>\n",
       "      <td>2015</td>\n",
       "      <td>Kia</td>\n",
       "      <td>Sorento</td>\n",
       "      <td>LX</td>\n",
       "      <td>SUV</td>\n",
       "      <td>automatic</td>\n",
       "      <td>5xyktca69fg561319</td>\n",
       "      <td>ca</td>\n",
       "      <td>5</td>\n",
       "      <td>9393</td>\n",
       "      <td>white</td>\n",
       "      <td>beige</td>\n",
       "      <td>kia motors america  inc</td>\n",
       "      <td>20800</td>\n",
       "      <td>21500</td>\n",
       "      <td>2014-12-16 20:30:00+00:00</td>\n",
       "      <td>2014-12-16</td>\n",
       "      <td>2014</td>\n",
       "      <td>Tuesday</td>\n",
       "      <td>20:30:00</td>\n",
       "      <td>December</td>\n",
       "    </tr>\n",
       "    <tr>\n",
       "      <th>2</th>\n",
       "      <td>2014</td>\n",
       "      <td>BMW</td>\n",
       "      <td>3 Series</td>\n",
       "      <td>328i SULEV</td>\n",
       "      <td>Sedan</td>\n",
       "      <td>automatic</td>\n",
       "      <td>wba3c1c51ek116351</td>\n",
       "      <td>ca</td>\n",
       "      <td>45</td>\n",
       "      <td>1331</td>\n",
       "      <td>gray</td>\n",
       "      <td>black</td>\n",
       "      <td>financial services remarketing (lease)</td>\n",
       "      <td>31900</td>\n",
       "      <td>30000</td>\n",
       "      <td>2015-01-15 12:30:00+00:00</td>\n",
       "      <td>2015-01-15</td>\n",
       "      <td>2015</td>\n",
       "      <td>Thursday</td>\n",
       "      <td>12:30:00</td>\n",
       "      <td>January</td>\n",
       "    </tr>\n",
       "    <tr>\n",
       "      <th>3</th>\n",
       "      <td>2015</td>\n",
       "      <td>Volvo</td>\n",
       "      <td>S60</td>\n",
       "      <td>T5</td>\n",
       "      <td>Sedan</td>\n",
       "      <td>automatic</td>\n",
       "      <td>yv1612tb4f1310987</td>\n",
       "      <td>ca</td>\n",
       "      <td>41</td>\n",
       "      <td>14282</td>\n",
       "      <td>white</td>\n",
       "      <td>black</td>\n",
       "      <td>volvo na rep/world omni</td>\n",
       "      <td>27500</td>\n",
       "      <td>27750</td>\n",
       "      <td>2015-01-29 12:30:00+00:00</td>\n",
       "      <td>2015-01-29</td>\n",
       "      <td>2015</td>\n",
       "      <td>Thursday</td>\n",
       "      <td>12:30:00</td>\n",
       "      <td>January</td>\n",
       "    </tr>\n",
       "    <tr>\n",
       "      <th>4</th>\n",
       "      <td>2014</td>\n",
       "      <td>BMW</td>\n",
       "      <td>6 Series Gran Coupe</td>\n",
       "      <td>650i</td>\n",
       "      <td>Sedan</td>\n",
       "      <td>automatic</td>\n",
       "      <td>wba6b2c57ed129731</td>\n",
       "      <td>ca</td>\n",
       "      <td>43</td>\n",
       "      <td>2641</td>\n",
       "      <td>gray</td>\n",
       "      <td>black</td>\n",
       "      <td>financial services remarketing (lease)</td>\n",
       "      <td>66000</td>\n",
       "      <td>67000</td>\n",
       "      <td>2014-12-18 20:30:00+00:00</td>\n",
       "      <td>2014-12-18</td>\n",
       "      <td>2014</td>\n",
       "      <td>Thursday</td>\n",
       "      <td>20:30:00</td>\n",
       "      <td>December</td>\n",
       "    </tr>\n",
       "  </tbody>\n",
       "</table>\n",
       "</div>"
      ],
      "text/plain": [
       "   year   make                model  ... sale_Weekday sale_Time     Month\n",
       "0  2015    Kia              Sorento  ...      Tuesday  20:30:00  December\n",
       "1  2015    Kia              Sorento  ...      Tuesday  20:30:00  December\n",
       "2  2014    BMW             3 Series  ...     Thursday  12:30:00   January\n",
       "3  2015  Volvo                  S60  ...     Thursday  12:30:00   January\n",
       "4  2014    BMW  6 Series Gran Coupe  ...     Thursday  20:30:00  December\n",
       "\n",
       "[5 rows x 21 columns]"
      ]
     },
     "execution_count": 16,
     "metadata": {},
     "output_type": "execute_result"
    }
   ],
   "source": [
    "df.head()"
   ]
  },
  {
   "cell_type": "code",
   "execution_count": 0,
   "metadata": {
    "application/vnd.databricks.v1+cell": {
     "cellMetadata": {
      "byteLimit": 2048000,
      "rowLimit": 10000
     },
     "inputWidgets": {},
     "nuid": "7cebb79c-6f98-4945-b0a4-61352a81aca6",
     "showTitle": false,
     "title": ""
    }
   },
   "outputs": [
    {
     "output_type": "execute_result",
     "data": {
      "text/plain": [
       "Ford             81013\n",
       "Chevrolet        54150\n",
       "Nissan           44043\n",
       "Toyota           35313\n",
       "Dodge            27181\n",
       "Honda            24781\n",
       "Hyundai          18659\n",
       "BMW              17509\n",
       "Kia              15828\n",
       "Chrysler         15133\n",
       "Infiniti         14011\n",
       "Mercedes-Benz    14008\n",
       "Jeep             12735\n",
       "Volkswagen       10780\n",
       "Lexus            10409\n",
       "GMC               9217\n",
       "Mazda             6930\n",
       "Cadillac          6315\n",
       "Lincoln           4926\n",
       "Audi              4802\n",
       "Acura             4503\n",
       "Buick             4470\n",
       "Subaru            4369\n",
       "Ram               4044\n",
       "Pontiac           4018\n",
       "Mitsubishi        3661\n",
       "Volvo             3082\n",
       "MINI              2946\n",
       "Saturn            2570\n",
       "Mercury           1571\n",
       "Scion             1545\n",
       "Land Rover        1322\n",
       "Jaguar            1257\n",
       "Porsche           1157\n",
       "Suzuki             977\n",
       "HUMMER             768\n",
       "FIAT               725\n",
       "Saab               416\n",
       "smart              343\n",
       "Oldsmobile         318\n",
       "Isuzu              179\n",
       "Maserati           109\n",
       "Bentley            105\n",
       "Aston Martin        24\n",
       "Tesla               23\n",
       "Ferrari             17\n",
       "Rolls-Royce         16\n",
       "Plymouth            16\n",
       "Geo                 16\n",
       "Fisker               9\n",
       "Lamborghini          3\n",
       "Daewoo               2\n",
       "Lotus                1\n",
       "Name: make, dtype: int64"
      ]
     },
     "execution_count": 17,
     "metadata": {},
     "output_type": "execute_result"
    }
   ],
   "source": [
    "df['make'].value_counts()"
   ]
  },
  {
   "cell_type": "code",
   "execution_count": 0,
   "metadata": {
    "application/vnd.databricks.v1+cell": {
     "cellMetadata": {
      "byteLimit": 2048000,
      "rowLimit": 10000
     },
     "inputWidgets": {},
     "nuid": "4d691e0a-6734-4e92-b9ae-d9d934082985",
     "showTitle": false,
     "title": ""
    }
   },
   "outputs": [],
   "source": [
    "df_toyo=df[df['make']=='Toyota']\n",
    "df_to_s=df_toyo[df_toyo['model'].isin(['Camry', 'Corolla'])]"
   ]
  },
  {
   "cell_type": "code",
   "execution_count": 0,
   "metadata": {
    "application/vnd.databricks.v1+cell": {
     "cellMetadata": {},
     "inputWidgets": {},
     "nuid": "c3f34806-587b-4701-9284-2f187cfd5381",
     "showTitle": false,
     "title": ""
    }
   },
   "outputs": [],
   "source": [
    "#most of my friends prefer to buy the toyota.(Used cars)"
   ]
  },
  {
   "cell_type": "code",
   "execution_count": 0,
   "metadata": {
    "application/vnd.databricks.v1+cell": {
     "cellMetadata": {
      "byteLimit": 2048000,
      "rowLimit": 10000
     },
     "inputWidgets": {},
     "nuid": "90f36afc-ed70-479e-b916-47b9576149b9",
     "showTitle": false,
     "title": ""
    }
   },
   "outputs": [
    {
     "output_type": "execute_result",
     "data": {
      "text/html": [
       "<div>\n",
       "<style scoped>\n",
       "    .dataframe tbody tr th:only-of-type {\n",
       "        vertical-align: middle;\n",
       "    }\n",
       "\n",
       "    .dataframe tbody tr th {\n",
       "        vertical-align: top;\n",
       "    }\n",
       "\n",
       "    .dataframe thead th {\n",
       "        text-align: right;\n",
       "    }\n",
       "</style>\n",
       "<table border=\"1\" class=\"dataframe\">\n",
       "  <thead>\n",
       "    <tr style=\"text-align: right;\">\n",
       "      <th></th>\n",
       "      <th>year</th>\n",
       "      <th>make</th>\n",
       "      <th>model</th>\n",
       "      <th>trim</th>\n",
       "      <th>body</th>\n",
       "      <th>transmission</th>\n",
       "      <th>vin</th>\n",
       "      <th>state</th>\n",
       "      <th>condition</th>\n",
       "      <th>odometer</th>\n",
       "      <th>color</th>\n",
       "      <th>interior</th>\n",
       "      <th>seller</th>\n",
       "      <th>mmr</th>\n",
       "      <th>sellingprice</th>\n",
       "      <th>saledate</th>\n",
       "      <th>sale_Date</th>\n",
       "      <th>sale_year</th>\n",
       "      <th>sale_Weekday</th>\n",
       "      <th>sale_Time</th>\n",
       "      <th>Month</th>\n",
       "      <th>count</th>\n",
       "    </tr>\n",
       "  </thead>\n",
       "  <tbody>\n",
       "    <tr>\n",
       "      <th>0</th>\n",
       "      <td>2015-01-01</td>\n",
       "      <td>Kia</td>\n",
       "      <td>Sorento</td>\n",
       "      <td>LX</td>\n",
       "      <td>SUV</td>\n",
       "      <td>automatic</td>\n",
       "      <td>5xyktca69fg566472</td>\n",
       "      <td>ca</td>\n",
       "      <td>5</td>\n",
       "      <td>16639</td>\n",
       "      <td>white</td>\n",
       "      <td>black</td>\n",
       "      <td>kia motors america  inc</td>\n",
       "      <td>20500</td>\n",
       "      <td>21500</td>\n",
       "      <td>2014-12-16 20:30:00+00:00</td>\n",
       "      <td>2014-12-16</td>\n",
       "      <td>2014</td>\n",
       "      <td>Tuesday</td>\n",
       "      <td>20:30:00</td>\n",
       "      <td>December</td>\n",
       "      <td>1</td>\n",
       "    </tr>\n",
       "    <tr>\n",
       "      <th>1</th>\n",
       "      <td>2015-01-01</td>\n",
       "      <td>Kia</td>\n",
       "      <td>Sorento</td>\n",
       "      <td>LX</td>\n",
       "      <td>SUV</td>\n",
       "      <td>automatic</td>\n",
       "      <td>5xyktca69fg561319</td>\n",
       "      <td>ca</td>\n",
       "      <td>5</td>\n",
       "      <td>9393</td>\n",
       "      <td>white</td>\n",
       "      <td>beige</td>\n",
       "      <td>kia motors america  inc</td>\n",
       "      <td>20800</td>\n",
       "      <td>21500</td>\n",
       "      <td>2014-12-16 20:30:00+00:00</td>\n",
       "      <td>2014-12-16</td>\n",
       "      <td>2014</td>\n",
       "      <td>Tuesday</td>\n",
       "      <td>20:30:00</td>\n",
       "      <td>December</td>\n",
       "      <td>1</td>\n",
       "    </tr>\n",
       "    <tr>\n",
       "      <th>2</th>\n",
       "      <td>2014-01-01</td>\n",
       "      <td>BMW</td>\n",
       "      <td>3 Series</td>\n",
       "      <td>328i SULEV</td>\n",
       "      <td>Sedan</td>\n",
       "      <td>automatic</td>\n",
       "      <td>wba3c1c51ek116351</td>\n",
       "      <td>ca</td>\n",
       "      <td>45</td>\n",
       "      <td>1331</td>\n",
       "      <td>gray</td>\n",
       "      <td>black</td>\n",
       "      <td>financial services remarketing (lease)</td>\n",
       "      <td>31900</td>\n",
       "      <td>30000</td>\n",
       "      <td>2015-01-15 12:30:00+00:00</td>\n",
       "      <td>2015-01-15</td>\n",
       "      <td>2015</td>\n",
       "      <td>Thursday</td>\n",
       "      <td>12:30:00</td>\n",
       "      <td>January</td>\n",
       "      <td>1</td>\n",
       "    </tr>\n",
       "    <tr>\n",
       "      <th>3</th>\n",
       "      <td>2015-01-01</td>\n",
       "      <td>Volvo</td>\n",
       "      <td>S60</td>\n",
       "      <td>T5</td>\n",
       "      <td>Sedan</td>\n",
       "      <td>automatic</td>\n",
       "      <td>yv1612tb4f1310987</td>\n",
       "      <td>ca</td>\n",
       "      <td>41</td>\n",
       "      <td>14282</td>\n",
       "      <td>white</td>\n",
       "      <td>black</td>\n",
       "      <td>volvo na rep/world omni</td>\n",
       "      <td>27500</td>\n",
       "      <td>27750</td>\n",
       "      <td>2015-01-29 12:30:00+00:00</td>\n",
       "      <td>2015-01-29</td>\n",
       "      <td>2015</td>\n",
       "      <td>Thursday</td>\n",
       "      <td>12:30:00</td>\n",
       "      <td>January</td>\n",
       "      <td>1</td>\n",
       "    </tr>\n",
       "    <tr>\n",
       "      <th>4</th>\n",
       "      <td>2014-01-01</td>\n",
       "      <td>BMW</td>\n",
       "      <td>6 Series Gran Coupe</td>\n",
       "      <td>650i</td>\n",
       "      <td>Sedan</td>\n",
       "      <td>automatic</td>\n",
       "      <td>wba6b2c57ed129731</td>\n",
       "      <td>ca</td>\n",
       "      <td>43</td>\n",
       "      <td>2641</td>\n",
       "      <td>gray</td>\n",
       "      <td>black</td>\n",
       "      <td>financial services remarketing (lease)</td>\n",
       "      <td>66000</td>\n",
       "      <td>67000</td>\n",
       "      <td>2014-12-18 20:30:00+00:00</td>\n",
       "      <td>2014-12-18</td>\n",
       "      <td>2014</td>\n",
       "      <td>Thursday</td>\n",
       "      <td>20:30:00</td>\n",
       "      <td>December</td>\n",
       "      <td>1</td>\n",
       "    </tr>\n",
       "  </tbody>\n",
       "</table>\n",
       "</div>"
      ],
      "text/plain": [
       "        year   make                model  ... sale_Time     Month count\n",
       "0 2015-01-01    Kia              Sorento  ...  20:30:00  December     1\n",
       "1 2015-01-01    Kia              Sorento  ...  20:30:00  December     1\n",
       "2 2014-01-01    BMW             3 Series  ...  12:30:00   January     1\n",
       "3 2015-01-01  Volvo                  S60  ...  12:30:00   January     1\n",
       "4 2014-01-01    BMW  6 Series Gran Coupe  ...  20:30:00  December     1\n",
       "\n",
       "[5 rows x 22 columns]"
      ]
     },
     "execution_count": 243,
     "metadata": {},
     "output_type": "execute_result"
    }
   ],
   "source": [
    "df.head()"
   ]
  },
  {
   "cell_type": "code",
   "execution_count": 0,
   "metadata": {
    "application/vnd.databricks.v1+cell": {
     "cellMetadata": {
      "byteLimit": 2048000,
      "rowLimit": 10000
     },
     "inputWidgets": {},
     "nuid": "0f27dfad-6d98-4e92-8271-58f0b294d8c2",
     "showTitle": false,
     "title": ""
    }
   },
   "outputs": [
    {
     "output_type": "display_data",
     "data": {
      "image/png": "[encoded data removed]",
      "text/plain": [
       "<Figure size 1000x600 with 1 Axes>"
      ]
     },
     "metadata": {},
     "output_type": "display_data"
    }
   ],
   "source": [
    "plt.figure(figsize=(10, 6))\n",
    "scatter = sns.scatterplot(data=df, x='odometer', y='sellingprice')\n",
    "plt.title('Relationship Between Odometer Reading, Price, and State by Vehicle Type')\n",
    "plt.xlabel('Odometer Reading')\n",
    "plt.ylabel('Price')\n",
    "#plt.legend(title='Vehicle/State', bbox_to_anchor=(1.05, 1), loc='upper left')\n",
    "plt.tight_layout()\n",
    "plt.show()"
   ]
  },
  {
   "cell_type": "code",
   "execution_count": 0,
   "metadata": {
    "application/vnd.databricks.v1+cell": {
     "cellMetadata": {
      "byteLimit": 2048000,
      "rowLimit": 10000
     },
     "inputWidgets": {},
     "nuid": "dc6372fc-74d3-4b30-93b8-ad30a692f8d1",
     "showTitle": false,
     "title": ""
    }
   },
   "outputs": [
    {
     "output_type": "display_data",
     "data": {
      "image/png": "[encoded data removed]",
      "text/plain": [
       "<Figure size 1000x800 with 2 Axes>"
      ]
     },
     "metadata": {},
     "output_type": "display_data"
    }
   ],
   "source": [
    "corr_matrix = df.corr()\n",
    "plt.figure(figsize=(10,8))\n",
    "sns.heatmap(corr_matrix, annot=True, fmt='.2f', cmap='coolwarm', square=True)\n",
    "plt.title('Correlation Matrix of DataFrame')\n",
    "plt.show()"
   ]
  },
  {
   "cell_type": "code",
   "execution_count": 0,
   "metadata": {
    "application/vnd.databricks.v1+cell": {
     "cellMetadata": {
      "byteLimit": 2048000,
      "rowLimit": 10000
     },
     "inputWidgets": {},
     "nuid": "2ae64669-4c83-4f4f-be28-d335b82c1405",
     "showTitle": false,
     "title": ""
    }
   },
   "outputs": [
    {
     "output_type": "display_data",
     "data": {
      "image/png": "[encoded data removed]",
      "text/plain": [
       "<Figure size 1200x800 with 1 Axes>"
      ]
     },
     "metadata": {},
     "output_type": "display_data"
    }
   ],
   "source": [
    "avg_price_by_year = df.groupby('year')['sellingprice'].mean().reset_index()\n",
    "#avg_price_by_year['year'] = avg_price_by_year['year'].dt.year\n",
    "plt.figure(figsize=(12, 8))\n",
    "bar_chart = sns.barplot(data=avg_price_by_year, x='year', y='sellingprice', palette='deep')\n",
    "plt.title('Average Selling Price by Year')\n",
    "plt.xlabel('Year')\n",
    "plt.ylabel('Average Selling Price ($)')\n",
    "plt.xticks(rotation=90)\n",
    "plt.tight_layout()\n",
    "plt.show()"
   ]
  },
  {
   "cell_type": "code",
   "execution_count": 0,
   "metadata": {
    "application/vnd.databricks.v1+cell": {
     "cellMetadata": {},
     "inputWidgets": {},
     "nuid": "bacc50db-ddb3-4220-886b-08e9a1f9edf8",
     "showTitle": false,
     "title": ""
    }
   },
   "outputs": [],
   "source": []
  },
  {
   "cell_type": "code",
   "execution_count": 0,
   "metadata": {
    "application/vnd.databricks.v1+cell": {
     "cellMetadata": {
      "byteLimit": 2048000,
      "rowLimit": 10000
     },
     "inputWidgets": {},
     "nuid": "d8ca4270-384b-4d39-9eff-fbb7e0f18025",
     "showTitle": false,
     "title": ""
    }
   },
   "outputs": [
    {
     "output_type": "display_data",
     "data": {
      "image/png": "[encoded data removed]",
      "text/plain": [
       "<Figure size 1200x800 with 1 Axes>"
      ]
     },
     "metadata": {},
     "output_type": "display_data"
    }
   ],
   "source": [
    "avg_price_by_maker = df.groupby('make')['sellingprice'].mean().reset_index()\n",
    "avg_price_by_maker = avg_price_by_maker.sort_values(by='sellingprice', ascending=False)\n",
    "avg_10=avg_price_by_maker.head(10)\n",
    "plt.figure(figsize=(12, 8)) \n",
    "bar_chart = sns.barplot(data=avg_10, x='make', y='sellingprice', palette='deep')\n",
    "plt.title('Average Selling Price by maker(Top_10)')\n",
    "plt.xlabel('Year')\n",
    "plt.ylabel('Average Selling Price ($)')\n",
    "plt.xticks(rotation=90)\n",
    "plt.tight_layout()\n",
    "plt.show()"
   ]
  },
  {
   "cell_type": "code",
   "execution_count": 0,
   "metadata": {
    "application/vnd.databricks.v1+cell": {
     "cellMetadata": {},
     "inputWidgets": {},
     "nuid": "98d868b2-103c-4321-9ff3-e0b962bc0efa",
     "showTitle": false,
     "title": ""
    }
   },
   "outputs": [],
   "source": []
  },
  {
   "cell_type": "code",
   "execution_count": 0,
   "metadata": {
    "application/vnd.databricks.v1+cell": {
     "cellMetadata": {
      "byteLimit": 2048000,
      "rowLimit": 10000
     },
     "inputWidgets": {},
     "nuid": "31e828ef-7468-4d21-b7ff-facb74c9697a",
     "showTitle": false,
     "title": ""
    }
   },
   "outputs": [
    {
     "output_type": "display_data",
     "data": {
      "image/png": "[encoded data removed]",
      "text/plain": [
       "<Figure size 1200x800 with 1 Axes>"
      ]
     },
     "metadata": {},
     "output_type": "display_data"
    }
   ],
   "source": [
    "\n",
    "count_by_maker = df.groupby('make')['sellingprice'].count().reset_index()\n",
    "count_by_maker.columns=['make','count']\n",
    "count_by_maker = count_by_maker.sort_values(by='count', ascending=False)\n",
    "count_10=count_by_maker.head(10)\n",
    "plt.figure(figsize=(12, 8)) \n",
    "bar_chart = sns.barplot(data=count_10, x='make', y='count', palette='deep')\n",
    "plt.title('Total Number by maker(Top_10)')\n",
    "plt.xlabel('Year')\n",
    "plt.ylabel('Count of vechical')\n",
    "plt.xticks(rotation=90)\n",
    "plt.tight_layout()\n",
    "plt.show()"
   ]
  },
  {
   "cell_type": "code",
   "execution_count": 0,
   "metadata": {
    "application/vnd.databricks.v1+cell": {
     "cellMetadata": {
      "byteLimit": 2048000,
      "rowLimit": 10000
     },
     "inputWidgets": {},
     "nuid": "d406e38b-e8ba-4d32-9273-cfd82429c6a0",
     "showTitle": false,
     "title": ""
    }
   },
   "outputs": [
    {
     "output_type": "execute_result",
     "data": {
      "text/plain": [
       "Index(['year', 'make', 'model', 'trim', 'body', 'transmission', 'vin', 'state',\n",
       "       'condition', 'odometer', 'color', 'interior', 'seller', 'mmr',\n",
       "       'sellingprice', 'saledate', 'sale_Date', 'sale_year', 'sale_Weekday',\n",
       "       'sale_Time', 'Month'],\n",
       "      dtype='object')"
      ]
     },
     "execution_count": 24,
     "metadata": {},
     "output_type": "execute_result"
    }
   ],
   "source": [
    "df.columns"
   ]
  },
  {
   "cell_type": "code",
   "execution_count": 0,
   "metadata": {
    "application/vnd.databricks.v1+cell": {
     "cellMetadata": {
      "byteLimit": 2048000,
      "rowLimit": 10000
     },
     "inputWidgets": {},
     "nuid": "bd1cd2cb-e415-4ffd-8ae7-377498757946",
     "showTitle": false,
     "title": ""
    }
   },
   "outputs": [
    {
     "output_type": "execute_result",
     "data": {
      "text/html": [
       "<div>\n",
       "<style scoped>\n",
       "    .dataframe tbody tr th:only-of-type {\n",
       "        vertical-align: middle;\n",
       "    }\n",
       "\n",
       "    .dataframe tbody tr th {\n",
       "        vertical-align: top;\n",
       "    }\n",
       "\n",
       "    .dataframe thead th {\n",
       "        text-align: right;\n",
       "    }\n",
       "</style>\n",
       "<table border=\"1\" class=\"dataframe\">\n",
       "  <thead>\n",
       "    <tr style=\"text-align: right;\">\n",
       "      <th></th>\n",
       "      <th>Month</th>\n",
       "      <th>count</th>\n",
       "    </tr>\n",
       "  </thead>\n",
       "  <tbody>\n",
       "    <tr>\n",
       "      <th>2</th>\n",
       "      <td>February</td>\n",
       "      <td>142338</td>\n",
       "    </tr>\n",
       "    <tr>\n",
       "      <th>3</th>\n",
       "      <td>January</td>\n",
       "      <td>121401</td>\n",
       "    </tr>\n",
       "    <tr>\n",
       "      <th>5</th>\n",
       "      <td>June</td>\n",
       "      <td>85405</td>\n",
       "    </tr>\n",
       "    <tr>\n",
       "      <th>7</th>\n",
       "      <td>May</td>\n",
       "      <td>43634</td>\n",
       "    </tr>\n",
       "    <tr>\n",
       "      <th>6</th>\n",
       "      <td>March</td>\n",
       "      <td>40590</td>\n",
       "    </tr>\n",
       "    <tr>\n",
       "      <th>1</th>\n",
       "      <td>December</td>\n",
       "      <td>36598</td>\n",
       "    </tr>\n",
       "    <tr>\n",
       "      <th>0</th>\n",
       "      <td>April</td>\n",
       "      <td>1246</td>\n",
       "    </tr>\n",
       "    <tr>\n",
       "      <th>4</th>\n",
       "      <td>July</td>\n",
       "      <td>1113</td>\n",
       "    </tr>\n",
       "  </tbody>\n",
       "</table>\n",
       "</div>"
      ],
      "text/plain": [
       "      Month   count\n",
       "2  February  142338\n",
       "3   January  121401\n",
       "5      June   85405\n",
       "7       May   43634\n",
       "6     March   40590\n",
       "1  December   36598\n",
       "0     April    1246\n",
       "4      July    1113"
      ]
     },
     "execution_count": 37,
     "metadata": {},
     "output_type": "execute_result"
    }
   ],
   "source": [
    "count_by_month"
   ]
  },
  {
   "cell_type": "code",
   "execution_count": 0,
   "metadata": {
    "application/vnd.databricks.v1+cell": {
     "cellMetadata": {
      "byteLimit": 2048000,
      "rowLimit": 10000
     },
     "inputWidgets": {},
     "nuid": "8ad4997b-f23e-450f-9a59-f12ff86310fe",
     "showTitle": false,
     "title": ""
    }
   },
   "outputs": [
    {
     "output_type": "display_data",
     "data": {
      "image/png": "[encoded data removed]",
      "text/plain": [
       "<Figure size 1000x600 with 1 Axes>"
      ]
     },
     "metadata": {},
     "output_type": "display_data"
    }
   ],
   "source": [
    "plt.figure(figsize=(10, 6))\n",
    "scatter_plot = sns.scatterplot(data=df, x='sellingprice', y='condition')\n",
    "plt.title('Price vs Condition')\n",
    "plt.xlabel('Price')\n",
    "plt.ylabel('Condition')\n",
    "\n",
    "# Show the plot\n",
    "plt.show()"
   ]
  },
  {
   "cell_type": "code",
   "execution_count": 0,
   "metadata": {
    "application/vnd.databricks.v1+cell": {
     "cellMetadata": {
      "byteLimit": 2048000,
      "rowLimit": 10000
     },
     "inputWidgets": {},
     "nuid": "a7185861-87cb-4379-a0a6-7e10b8fd784b",
     "showTitle": false,
     "title": ""
    }
   },
   "outputs": [
    {
     "output_type": "display_data",
     "data": {
      "image/png": "[encoded data removed]",
      "text/plain": [
       "<Figure size 1000x600 with 1 Axes>"
      ]
     },
     "metadata": {},
     "output_type": "display_data"
    }
   ],
   "source": [
    "plt.figure(figsize=(10, 6))\n",
    "scatter_plot = sns.scatterplot(data=df, x='sellingprice', y='mmr')\n",
    "plt.title('Price vs mmr')\n",
    "plt.xlabel('Price')\n",
    "plt.ylabel('Condition')\n",
    "\n",
    "# Show the plot\n",
    "plt.show()"
   ]
  },
  {
   "cell_type": "code",
   "execution_count": 0,
   "metadata": {
    "application/vnd.databricks.v1+cell": {
     "cellMetadata": {
      "byteLimit": 2048000,
      "rowLimit": 10000
     },
     "inputWidgets": {},
     "nuid": "fd2819c4-8af7-4c1c-ba6f-19c9eb294e30",
     "showTitle": false,
     "title": ""
    }
   },
   "outputs": [
    {
     "output_type": "execute_result",
     "data": {
      "text/plain": [
       "(17731, 21)"
      ]
     },
     "execution_count": 281,
     "metadata": {},
     "output_type": "execute_result"
    }
   ],
   "source": [
    "df_to_s.shape"
   ]
  },
  {
   "cell_type": "code",
   "execution_count": 0,
   "metadata": {
    "application/vnd.databricks.v1+cell": {
     "cellMetadata": {
      "byteLimit": 2048000,
      "rowLimit": 10000
     },
     "inputWidgets": {},
     "nuid": "0a6db736-b879-4cb9-8e6e-89cb805a2567",
     "showTitle": false,
     "title": ""
    }
   },
   "outputs": [
    {
     "output_type": "execute_result",
     "data": {
      "text/plain": [
       "Index(['year', 'make', 'model', 'trim', 'body', 'transmission', 'vin', 'state',\n",
       "       'condition', 'odometer', 'color', 'interior', 'seller', 'mmr',\n",
       "       'sellingprice', 'saledate', 'sale_Date', 'sale_year', 'sale_Weekday',\n",
       "       'sale_Time', 'Month'],\n",
       "      dtype='object')"
      ]
     },
     "execution_count": 282,
     "metadata": {},
     "output_type": "execute_result"
    }
   ],
   "source": [
    "df_to_s.columns"
   ]
  },
  {
   "cell_type": "code",
   "execution_count": 0,
   "metadata": {
    "application/vnd.databricks.v1+cell": {
     "cellMetadata": {
      "byteLimit": 2048000,
      "rowLimit": 10000
     },
     "inputWidgets": {},
     "nuid": "0dacc85f-6603-41e6-ac7f-7c7235dd9eec",
     "showTitle": false,
     "title": ""
    }
   },
   "outputs": [
    {
     "output_type": "execute_result",
     "data": {
      "text/html": [
       "<div>\n",
       "<style scoped>\n",
       "    .dataframe tbody tr th:only-of-type {\n",
       "        vertical-align: middle;\n",
       "    }\n",
       "\n",
       "    .dataframe tbody tr th {\n",
       "        vertical-align: top;\n",
       "    }\n",
       "\n",
       "    .dataframe thead th {\n",
       "        text-align: right;\n",
       "    }\n",
       "</style>\n",
       "<table border=\"1\" class=\"dataframe\">\n",
       "  <thead>\n",
       "    <tr style=\"text-align: right;\">\n",
       "      <th></th>\n",
       "      <th>year</th>\n",
       "      <th>make</th>\n",
       "      <th>model</th>\n",
       "      <th>trim</th>\n",
       "      <th>body</th>\n",
       "      <th>transmission</th>\n",
       "      <th>vin</th>\n",
       "      <th>state</th>\n",
       "      <th>condition</th>\n",
       "      <th>odometer</th>\n",
       "      <th>color</th>\n",
       "      <th>interior</th>\n",
       "      <th>seller</th>\n",
       "      <th>mmr</th>\n",
       "      <th>sellingprice</th>\n",
       "      <th>saledate</th>\n",
       "      <th>sale_Date</th>\n",
       "      <th>sale_year</th>\n",
       "      <th>sale_Weekday</th>\n",
       "      <th>sale_Time</th>\n",
       "      <th>Month</th>\n",
       "    </tr>\n",
       "  </thead>\n",
       "  <tbody>\n",
       "    <tr>\n",
       "      <th>0</th>\n",
       "      <td>2015</td>\n",
       "      <td>Kia</td>\n",
       "      <td>Sorento</td>\n",
       "      <td>LX</td>\n",
       "      <td>SUV</td>\n",
       "      <td>automatic</td>\n",
       "      <td>5xyktca69fg566472</td>\n",
       "      <td>ca</td>\n",
       "      <td>5</td>\n",
       "      <td>16639</td>\n",
       "      <td>white</td>\n",
       "      <td>black</td>\n",
       "      <td>kia motors america  inc</td>\n",
       "      <td>20500</td>\n",
       "      <td>21500</td>\n",
       "      <td>2014-12-16 20:30:00+00:00</td>\n",
       "      <td>2014-12-16</td>\n",
       "      <td>2014</td>\n",
       "      <td>Tuesday</td>\n",
       "      <td>20:30:00</td>\n",
       "      <td>December</td>\n",
       "    </tr>\n",
       "    <tr>\n",
       "      <th>1</th>\n",
       "      <td>2015</td>\n",
       "      <td>Kia</td>\n",
       "      <td>Sorento</td>\n",
       "      <td>LX</td>\n",
       "      <td>SUV</td>\n",
       "      <td>automatic</td>\n",
       "      <td>5xyktca69fg561319</td>\n",
       "      <td>ca</td>\n",
       "      <td>5</td>\n",
       "      <td>9393</td>\n",
       "      <td>white</td>\n",
       "      <td>beige</td>\n",
       "      <td>kia motors america  inc</td>\n",
       "      <td>20800</td>\n",
       "      <td>21500</td>\n",
       "      <td>2014-12-16 20:30:00+00:00</td>\n",
       "      <td>2014-12-16</td>\n",
       "      <td>2014</td>\n",
       "      <td>Tuesday</td>\n",
       "      <td>20:30:00</td>\n",
       "      <td>December</td>\n",
       "    </tr>\n",
       "    <tr>\n",
       "      <th>2</th>\n",
       "      <td>2014</td>\n",
       "      <td>BMW</td>\n",
       "      <td>3 Series</td>\n",
       "      <td>328i SULEV</td>\n",
       "      <td>Sedan</td>\n",
       "      <td>automatic</td>\n",
       "      <td>wba3c1c51ek116351</td>\n",
       "      <td>ca</td>\n",
       "      <td>45</td>\n",
       "      <td>1331</td>\n",
       "      <td>gray</td>\n",
       "      <td>black</td>\n",
       "      <td>financial services remarketing (lease)</td>\n",
       "      <td>31900</td>\n",
       "      <td>30000</td>\n",
       "      <td>2015-01-15 12:30:00+00:00</td>\n",
       "      <td>2015-01-15</td>\n",
       "      <td>2015</td>\n",
       "      <td>Thursday</td>\n",
       "      <td>12:30:00</td>\n",
       "      <td>January</td>\n",
       "    </tr>\n",
       "    <tr>\n",
       "      <th>3</th>\n",
       "      <td>2015</td>\n",
       "      <td>Volvo</td>\n",
       "      <td>S60</td>\n",
       "      <td>T5</td>\n",
       "      <td>Sedan</td>\n",
       "      <td>automatic</td>\n",
       "      <td>yv1612tb4f1310987</td>\n",
       "      <td>ca</td>\n",
       "      <td>41</td>\n",
       "      <td>14282</td>\n",
       "      <td>white</td>\n",
       "      <td>black</td>\n",
       "      <td>volvo na rep/world omni</td>\n",
       "      <td>27500</td>\n",
       "      <td>27750</td>\n",
       "      <td>2015-01-29 12:30:00+00:00</td>\n",
       "      <td>2015-01-29</td>\n",
       "      <td>2015</td>\n",
       "      <td>Thursday</td>\n",
       "      <td>12:30:00</td>\n",
       "      <td>January</td>\n",
       "    </tr>\n",
       "    <tr>\n",
       "      <th>4</th>\n",
       "      <td>2014</td>\n",
       "      <td>BMW</td>\n",
       "      <td>6 Series Gran Coupe</td>\n",
       "      <td>650i</td>\n",
       "      <td>Sedan</td>\n",
       "      <td>automatic</td>\n",
       "      <td>wba6b2c57ed129731</td>\n",
       "      <td>ca</td>\n",
       "      <td>43</td>\n",
       "      <td>2641</td>\n",
       "      <td>gray</td>\n",
       "      <td>black</td>\n",
       "      <td>financial services remarketing (lease)</td>\n",
       "      <td>66000</td>\n",
       "      <td>67000</td>\n",
       "      <td>2014-12-18 20:30:00+00:00</td>\n",
       "      <td>2014-12-18</td>\n",
       "      <td>2014</td>\n",
       "      <td>Thursday</td>\n",
       "      <td>20:30:00</td>\n",
       "      <td>December</td>\n",
       "    </tr>\n",
       "    <tr>\n",
       "      <th>...</th>\n",
       "      <td>...</td>\n",
       "      <td>...</td>\n",
       "      <td>...</td>\n",
       "      <td>...</td>\n",
       "      <td>...</td>\n",
       "      <td>...</td>\n",
       "      <td>...</td>\n",
       "      <td>...</td>\n",
       "      <td>...</td>\n",
       "      <td>...</td>\n",
       "      <td>...</td>\n",
       "      <td>...</td>\n",
       "      <td>...</td>\n",
       "      <td>...</td>\n",
       "      <td>...</td>\n",
       "      <td>...</td>\n",
       "      <td>...</td>\n",
       "      <td>...</td>\n",
       "      <td>...</td>\n",
       "      <td>...</td>\n",
       "      <td>...</td>\n",
       "    </tr>\n",
       "    <tr>\n",
       "      <th>558831</th>\n",
       "      <td>2011</td>\n",
       "      <td>BMW</td>\n",
       "      <td>5 Series</td>\n",
       "      <td>528i</td>\n",
       "      <td>Sedan</td>\n",
       "      <td>automatic</td>\n",
       "      <td>wbafr1c53bc744672</td>\n",
       "      <td>fl</td>\n",
       "      <td>39</td>\n",
       "      <td>66403</td>\n",
       "      <td>white</td>\n",
       "      <td>brown</td>\n",
       "      <td>lauderdale imports ltd bmw pembrok pines</td>\n",
       "      <td>20300</td>\n",
       "      <td>22800</td>\n",
       "      <td>2015-07-07 13:15:00+00:00</td>\n",
       "      <td>2015-07-07</td>\n",
       "      <td>2015</td>\n",
       "      <td>Tuesday</td>\n",
       "      <td>13:15:00</td>\n",
       "      <td>July</td>\n",
       "    </tr>\n",
       "    <tr>\n",
       "      <th>558833</th>\n",
       "      <td>2012</td>\n",
       "      <td>Ram</td>\n",
       "      <td>2500</td>\n",
       "      <td>Power Wagon</td>\n",
       "      <td>Crew Cab</td>\n",
       "      <td>automatic</td>\n",
       "      <td>3c6td5et6cg112407</td>\n",
       "      <td>wa</td>\n",
       "      <td>5</td>\n",
       "      <td>54393</td>\n",
       "      <td>white</td>\n",
       "      <td>black</td>\n",
       "      <td>i -5 uhlmann rv</td>\n",
       "      <td>30200</td>\n",
       "      <td>30800</td>\n",
       "      <td>2015-07-08 16:30:00+00:00</td>\n",
       "      <td>2015-07-08</td>\n",
       "      <td>2015</td>\n",
       "      <td>Wednesday</td>\n",
       "      <td>16:30:00</td>\n",
       "      <td>July</td>\n",
       "    </tr>\n",
       "    <tr>\n",
       "      <th>558834</th>\n",
       "      <td>2012</td>\n",
       "      <td>BMW</td>\n",
       "      <td>X5</td>\n",
       "      <td>xDrive35d</td>\n",
       "      <td>SUV</td>\n",
       "      <td>automatic</td>\n",
       "      <td>5uxzw0c58cl668465</td>\n",
       "      <td>ca</td>\n",
       "      <td>48</td>\n",
       "      <td>50561</td>\n",
       "      <td>black</td>\n",
       "      <td>black</td>\n",
       "      <td>financial services remarketing (lease)</td>\n",
       "      <td>29800</td>\n",
       "      <td>34000</td>\n",
       "      <td>2015-07-08 16:30:00+00:00</td>\n",
       "      <td>2015-07-08</td>\n",
       "      <td>2015</td>\n",
       "      <td>Wednesday</td>\n",
       "      <td>16:30:00</td>\n",
       "      <td>July</td>\n",
       "    </tr>\n",
       "    <tr>\n",
       "      <th>558835</th>\n",
       "      <td>2015</td>\n",
       "      <td>Nissan</td>\n",
       "      <td>Altima</td>\n",
       "      <td>2.5 S</td>\n",
       "      <td>sedan</td>\n",
       "      <td>automatic</td>\n",
       "      <td>1n4al3ap0fc216050</td>\n",
       "      <td>ga</td>\n",
       "      <td>38</td>\n",
       "      <td>16658</td>\n",
       "      <td>white</td>\n",
       "      <td>black</td>\n",
       "      <td>enterprise vehicle exchange / tra / rental / t...</td>\n",
       "      <td>15100</td>\n",
       "      <td>11100</td>\n",
       "      <td>2015-07-09 13:45:00+00:00</td>\n",
       "      <td>2015-07-09</td>\n",
       "      <td>2015</td>\n",
       "      <td>Thursday</td>\n",
       "      <td>13:45:00</td>\n",
       "      <td>July</td>\n",
       "    </tr>\n",
       "    <tr>\n",
       "      <th>558836</th>\n",
       "      <td>2014</td>\n",
       "      <td>Ford</td>\n",
       "      <td>F-150</td>\n",
       "      <td>XLT</td>\n",
       "      <td>SuperCrew</td>\n",
       "      <td>automatic</td>\n",
       "      <td>1ftfw1et2eke87277</td>\n",
       "      <td>ca</td>\n",
       "      <td>34</td>\n",
       "      <td>15008</td>\n",
       "      <td>gray</td>\n",
       "      <td>gray</td>\n",
       "      <td>ford motor credit company llc pd</td>\n",
       "      <td>29600</td>\n",
       "      <td>26700</td>\n",
       "      <td>2015-05-28 12:30:00+00:00</td>\n",
       "      <td>2015-05-28</td>\n",
       "      <td>2015</td>\n",
       "      <td>Thursday</td>\n",
       "      <td>12:30:00</td>\n",
       "      <td>May</td>\n",
       "    </tr>\n",
       "  </tbody>\n",
       "</table>\n",
       "<p>472325 rows × 21 columns</p>\n",
       "</div>"
      ],
      "text/plain": [
       "        year    make                model  ... sale_Weekday sale_Time     Month\n",
       "0       2015     Kia              Sorento  ...      Tuesday  20:30:00  December\n",
       "1       2015     Kia              Sorento  ...      Tuesday  20:30:00  December\n",
       "2       2014     BMW             3 Series  ...     Thursday  12:30:00   January\n",
       "3       2015   Volvo                  S60  ...     Thursday  12:30:00   January\n",
       "4       2014     BMW  6 Series Gran Coupe  ...     Thursday  20:30:00  December\n",
       "...      ...     ...                  ...  ...          ...       ...       ...\n",
       "558831  2011     BMW             5 Series  ...      Tuesday  13:15:00      July\n",
       "558833  2012     Ram                 2500  ...    Wednesday  16:30:00      July\n",
       "558834  2012     BMW                   X5  ...    Wednesday  16:30:00      July\n",
       "558835  2015  Nissan               Altima  ...     Thursday  13:45:00      July\n",
       "558836  2014    Ford                F-150  ...     Thursday  12:30:00       May\n",
       "\n",
       "[472325 rows x 21 columns]"
      ]
     },
     "execution_count": 83,
     "metadata": {},
     "output_type": "execute_result"
    }
   ],
   "source": [
    "df"
   ]
  },
  {
   "cell_type": "code",
   "execution_count": 0,
   "metadata": {
    "application/vnd.databricks.v1+cell": {
     "cellMetadata": {
      "byteLimit": 2048000,
      "rowLimit": 10000
     },
     "inputWidgets": {},
     "nuid": "6cfbafb5-82e6-4877-ad53-4bb84656d95d",
     "showTitle": false,
     "title": ""
    }
   },
   "outputs": [],
   "source": [
    "y = car_prices['sellingprice']\n",
    "X = car_prices[['year', 'make', 'model', 'odometer', 'condition','mmr','state']]\n",
    "\n",
    "categorical_features = ['make', 'model','state']\n",
    "numerical_features = ['year', 'odometer', 'condition','mmr']\n",
    "preprocessor = ColumnTransformer(\n",
    "    transformers=[\n",
    "        ('num', 'passthrough', numerical_features),\n",
    "        ('cat', OneHotEncoder(handle_unknown='ignore'), categorical_features)\n",
    "    ])"
   ]
  },
  {
   "cell_type": "code",
   "execution_count": 0,
   "metadata": {
    "application/vnd.databricks.v1+cell": {
     "cellMetadata": {
      "byteLimit": 2048000,
      "rowLimit": 10000
     },
     "inputWidgets": {},
     "nuid": "8503c7cd-26e9-4400-9e9d-d322872fee92",
     "showTitle": false,
     "title": ""
    }
   },
   "outputs": [
    {
     "output_type": "stream",
     "name": "stdout",
     "output_type": "stream",
     "text": [
      "Linear Regression R² score: 0.9710331733505009\n"
     ]
    }
   ],
   "source": [
    "\n",
    "\n",
    "Linear_Re = Pipeline([\n",
    "    ('preprocessor', preprocessor),\n",
    "    ('regressor', LinearRegression())\n",
    "])\n",
    "\n",
    "X_train, X_test, y_train, y_test = train_test_split(X, y, test_size=0.2, random_state=42)\n",
    "\n",
    "Linear_Re.fit(X_train, y_train)\n",
    "\n",
    "y_pred = Linear_Re.predict(X_test)\n",
    "print(f'Linear Regression R² score: {r2_score(y_test, y_pred)}')"
   ]
  },
  {
   "cell_type": "code",
   "execution_count": 0,
   "metadata": {
    "application/vnd.databricks.v1+cell": {
     "cellMetadata": {
      "byteLimit": 2048000,
      "rowLimit": 10000
     },
     "inputWidgets": {},
     "nuid": "03a22f64-4ba8-4327-b485-ac8fc2a30b85",
     "showTitle": false,
     "title": ""
    }
   },
   "outputs": [
    {
     "output_type": "stream",
     "name": "stdout",
     "output_type": "stream",
     "text": [
      "R² scores for each fold: [0.96842918 0.96997892 0.97357164 0.9571498  0.97745458]\n"
     ]
    },
    {
     "output_type": "display_data",
     "data": {
      "image/png": "[encoded data removed]",
      "text/plain": [
       "<Figure size 800x400 with 1 Axes>"
      ]
     },
     "metadata": {},
     "output_type": "display_data"
    }
   ],
   "source": [
    "from sklearn.model_selection import cross_val_score\n",
    "scores_LR = cross_val_score(Linear_Re, X, y, cv=5, scoring='r2')\n",
    "print(\"R² scores for each fold:\", scores_LR)\n",
    "\n",
    "# Plotting the R² scores\n",
    "plt.figure(figsize=(8, 4))\n",
    "plt.plot(range(1, len(scores_LR) + 1), scores_LR, marker='o', linestyle='-', color='b')\n",
    "plt.title('Cross-Validation R² Scores')\n",
    "plt.xlabel('Fold Number')\n",
    "plt.ylabel('R² Score')\n",
    "plt.grid(True)\n",
    "plt.xticks(range(1, len(scores_LR) + 1))\n",
    "plt.show()"
   ]
  },
  {
   "cell_type": "code",
   "execution_count": 0,
   "metadata": {
    "application/vnd.databricks.v1+cell": {
     "cellMetadata": {
      "byteLimit": 2048000,
      "rowLimit": 10000
     },
     "inputWidgets": {},
     "nuid": "b5012d5b-12d9-48d6-9c6b-a169d8fcbe7f",
     "showTitle": false,
     "title": ""
    }
   },
   "outputs": [
    {
     "output_type": "stream",
     "name": "stdout",
     "output_type": "stream",
     "text": [
      "Decision Tree R² score: 0.867438793424291\n"
     ]
    }
   ],
   "source": [
    "\n",
    "tree_pipeline = Pipeline([\n",
    "    ('preprocessor', preprocessor),\n",
    "    ('regressor', DecisionTreeRegressor(random_state=42))\n",
    "])\n",
    "X_train, X_test, y_train, y_test = train_test_split(X, y, test_size=0.2, random_state=42)\n",
    "\n",
    "tree_pipeline.fit(X_train, y_train)\n",
    "\n",
    "y_pred = tree_pipeline.predict(X_test)\n",
    "print(f'Decision Tree R² score: {r2_score(y_test, y_pred)}')"
   ]
  },
  {
   "cell_type": "code",
   "execution_count": 0,
   "metadata": {
    "application/vnd.databricks.v1+cell": {
     "cellMetadata": {
      "byteLimit": 2048000,
      "rowLimit": 10000
     },
     "inputWidgets": {},
     "nuid": "d0c7efa4-7706-4ce7-b509-606062c04f06",
     "showTitle": false,
     "title": ""
    }
   },
   "outputs": [
    {
     "output_type": "stream",
     "name": "stdout",
     "output_type": "stream",
     "text": [
      "R² scores for each fold: [0.86659249 0.86840711 0.86817386 0.85038873 0.85869431]\n"
     ]
    },
    {
     "output_type": "display_data",
     "data": {
      "image/png": "[encoded data removed]",
      "text/plain": [
       "<Figure size 800x400 with 1 Axes>"
      ]
     },
     "metadata": {},
     "output_type": "display_data"
    }
   ],
   "source": [
    "from sklearn.model_selection import cross_val_score\n",
    "scores = cross_val_score(tree_pipeline, X, y, cv=5, scoring='r2')\n",
    "print(\"R² scores for each fold:\", scores)\n",
    "\n",
    "# Plotting the R² scores\n",
    "plt.figure(figsize=(8, 4))\n",
    "plt.plot(range(1, len(scores) + 1), scores, marker='o', linestyle='-', color='b')\n",
    "plt.title('Cross-Validation R² Scores')\n",
    "plt.xlabel('Fold Number')\n",
    "plt.ylabel('R² Score')\n",
    "plt.grid(True)\n",
    "plt.xticks(range(1, len(scores) + 1))\n",
    "plt.show()"
   ]
  },
  {
   "cell_type": "code",
   "execution_count": 0,
   "metadata": {
    "application/vnd.databricks.v1+cell": {
     "cellMetadata": {
      "byteLimit": 2048000,
      "rowLimit": 10000
     },
     "inputWidgets": {},
     "nuid": "54be70c5-b338-4bcc-890e-8de7356ddb61",
     "showTitle": false,
     "title": ""
    }
   },
   "outputs": [
    {
     "output_type": "execute_result",
     "data": {
      "text/html": [
       "<div>\n",
       "<style scoped>\n",
       "    .dataframe tbody tr th:only-of-type {\n",
       "        vertical-align: middle;\n",
       "    }\n",
       "\n",
       "    .dataframe tbody tr th {\n",
       "        vertical-align: top;\n",
       "    }\n",
       "\n",
       "    .dataframe thead th {\n",
       "        text-align: right;\n",
       "    }\n",
       "</style>\n",
       "<table border=\"1\" class=\"dataframe\">\n",
       "  <thead>\n",
       "    <tr style=\"text-align: right;\">\n",
       "      <th></th>\n",
       "      <th>year</th>\n",
       "      <th>make</th>\n",
       "      <th>model</th>\n",
       "      <th>trim</th>\n",
       "      <th>body</th>\n",
       "      <th>transmission</th>\n",
       "      <th>vin</th>\n",
       "      <th>state</th>\n",
       "      <th>condition</th>\n",
       "      <th>odometer</th>\n",
       "      <th>color</th>\n",
       "      <th>interior</th>\n",
       "      <th>seller</th>\n",
       "      <th>mmr</th>\n",
       "      <th>sellingprice</th>\n",
       "      <th>saledate</th>\n",
       "      <th>sale_Date</th>\n",
       "      <th>sale_year</th>\n",
       "      <th>sale_Weekday</th>\n",
       "      <th>sale_Time</th>\n",
       "      <th>Month</th>\n",
       "    </tr>\n",
       "  </thead>\n",
       "  <tbody>\n",
       "    <tr>\n",
       "      <th>0</th>\n",
       "      <td>2015</td>\n",
       "      <td>Kia</td>\n",
       "      <td>Sorento</td>\n",
       "      <td>LX</td>\n",
       "      <td>SUV</td>\n",
       "      <td>automatic</td>\n",
       "      <td>5xyktca69fg566472</td>\n",
       "      <td>ca</td>\n",
       "      <td>5</td>\n",
       "      <td>16639</td>\n",
       "      <td>white</td>\n",
       "      <td>black</td>\n",
       "      <td>kia motors america  inc</td>\n",
       "      <td>20500</td>\n",
       "      <td>21500</td>\n",
       "      <td>2014-12-16 20:30:00+00:00</td>\n",
       "      <td>2014-12-16</td>\n",
       "      <td>2014</td>\n",
       "      <td>Tuesday</td>\n",
       "      <td>20:30:00</td>\n",
       "      <td>December</td>\n",
       "    </tr>\n",
       "    <tr>\n",
       "      <th>1</th>\n",
       "      <td>2015</td>\n",
       "      <td>Kia</td>\n",
       "      <td>Sorento</td>\n",
       "      <td>LX</td>\n",
       "      <td>SUV</td>\n",
       "      <td>automatic</td>\n",
       "      <td>5xyktca69fg561319</td>\n",
       "      <td>ca</td>\n",
       "      <td>5</td>\n",
       "      <td>9393</td>\n",
       "      <td>white</td>\n",
       "      <td>beige</td>\n",
       "      <td>kia motors america  inc</td>\n",
       "      <td>20800</td>\n",
       "      <td>21500</td>\n",
       "      <td>2014-12-16 20:30:00+00:00</td>\n",
       "      <td>2014-12-16</td>\n",
       "      <td>2014</td>\n",
       "      <td>Tuesday</td>\n",
       "      <td>20:30:00</td>\n",
       "      <td>December</td>\n",
       "    </tr>\n",
       "    <tr>\n",
       "      <th>2</th>\n",
       "      <td>2014</td>\n",
       "      <td>BMW</td>\n",
       "      <td>3 Series</td>\n",
       "      <td>328i SULEV</td>\n",
       "      <td>Sedan</td>\n",
       "      <td>automatic</td>\n",
       "      <td>wba3c1c51ek116351</td>\n",
       "      <td>ca</td>\n",
       "      <td>45</td>\n",
       "      <td>1331</td>\n",
       "      <td>gray</td>\n",
       "      <td>black</td>\n",
       "      <td>financial services remarketing (lease)</td>\n",
       "      <td>31900</td>\n",
       "      <td>30000</td>\n",
       "      <td>2015-01-15 12:30:00+00:00</td>\n",
       "      <td>2015-01-15</td>\n",
       "      <td>2015</td>\n",
       "      <td>Thursday</td>\n",
       "      <td>12:30:00</td>\n",
       "      <td>January</td>\n",
       "    </tr>\n",
       "    <tr>\n",
       "      <th>3</th>\n",
       "      <td>2015</td>\n",
       "      <td>Volvo</td>\n",
       "      <td>S60</td>\n",
       "      <td>T5</td>\n",
       "      <td>Sedan</td>\n",
       "      <td>automatic</td>\n",
       "      <td>yv1612tb4f1310987</td>\n",
       "      <td>ca</td>\n",
       "      <td>41</td>\n",
       "      <td>14282</td>\n",
       "      <td>white</td>\n",
       "      <td>black</td>\n",
       "      <td>volvo na rep/world omni</td>\n",
       "      <td>27500</td>\n",
       "      <td>27750</td>\n",
       "      <td>2015-01-29 12:30:00+00:00</td>\n",
       "      <td>2015-01-29</td>\n",
       "      <td>2015</td>\n",
       "      <td>Thursday</td>\n",
       "      <td>12:30:00</td>\n",
       "      <td>January</td>\n",
       "    </tr>\n",
       "    <tr>\n",
       "      <th>4</th>\n",
       "      <td>2014</td>\n",
       "      <td>BMW</td>\n",
       "      <td>6 Series Gran Coupe</td>\n",
       "      <td>650i</td>\n",
       "      <td>Sedan</td>\n",
       "      <td>automatic</td>\n",
       "      <td>wba6b2c57ed129731</td>\n",
       "      <td>ca</td>\n",
       "      <td>43</td>\n",
       "      <td>2641</td>\n",
       "      <td>gray</td>\n",
       "      <td>black</td>\n",
       "      <td>financial services remarketing (lease)</td>\n",
       "      <td>66000</td>\n",
       "      <td>67000</td>\n",
       "      <td>2014-12-18 20:30:00+00:00</td>\n",
       "      <td>2014-12-18</td>\n",
       "      <td>2014</td>\n",
       "      <td>Thursday</td>\n",
       "      <td>20:30:00</td>\n",
       "      <td>December</td>\n",
       "    </tr>\n",
       "    <tr>\n",
       "      <th>...</th>\n",
       "      <td>...</td>\n",
       "      <td>...</td>\n",
       "      <td>...</td>\n",
       "      <td>...</td>\n",
       "      <td>...</td>\n",
       "      <td>...</td>\n",
       "      <td>...</td>\n",
       "      <td>...</td>\n",
       "      <td>...</td>\n",
       "      <td>...</td>\n",
       "      <td>...</td>\n",
       "      <td>...</td>\n",
       "      <td>...</td>\n",
       "      <td>...</td>\n",
       "      <td>...</td>\n",
       "      <td>...</td>\n",
       "      <td>...</td>\n",
       "      <td>...</td>\n",
       "      <td>...</td>\n",
       "      <td>...</td>\n",
       "      <td>...</td>\n",
       "    </tr>\n",
       "    <tr>\n",
       "      <th>558831</th>\n",
       "      <td>2011</td>\n",
       "      <td>BMW</td>\n",
       "      <td>5 Series</td>\n",
       "      <td>528i</td>\n",
       "      <td>Sedan</td>\n",
       "      <td>automatic</td>\n",
       "      <td>wbafr1c53bc744672</td>\n",
       "      <td>fl</td>\n",
       "      <td>39</td>\n",
       "      <td>66403</td>\n",
       "      <td>white</td>\n",
       "      <td>brown</td>\n",
       "      <td>lauderdale imports ltd bmw pembrok pines</td>\n",
       "      <td>20300</td>\n",
       "      <td>22800</td>\n",
       "      <td>2015-07-07 13:15:00+00:00</td>\n",
       "      <td>2015-07-07</td>\n",
       "      <td>2015</td>\n",
       "      <td>Tuesday</td>\n",
       "      <td>13:15:00</td>\n",
       "      <td>July</td>\n",
       "    </tr>\n",
       "    <tr>\n",
       "      <th>558833</th>\n",
       "      <td>2012</td>\n",
       "      <td>Ram</td>\n",
       "      <td>2500</td>\n",
       "      <td>Power Wagon</td>\n",
       "      <td>Crew Cab</td>\n",
       "      <td>automatic</td>\n",
       "      <td>3c6td5et6cg112407</td>\n",
       "      <td>wa</td>\n",
       "      <td>5</td>\n",
       "      <td>54393</td>\n",
       "      <td>white</td>\n",
       "      <td>black</td>\n",
       "      <td>i -5 uhlmann rv</td>\n",
       "      <td>30200</td>\n",
       "      <td>30800</td>\n",
       "      <td>2015-07-08 16:30:00+00:00</td>\n",
       "      <td>2015-07-08</td>\n",
       "      <td>2015</td>\n",
       "      <td>Wednesday</td>\n",
       "      <td>16:30:00</td>\n",
       "      <td>July</td>\n",
       "    </tr>\n",
       "    <tr>\n",
       "      <th>558834</th>\n",
       "      <td>2012</td>\n",
       "      <td>BMW</td>\n",
       "      <td>X5</td>\n",
       "      <td>xDrive35d</td>\n",
       "      <td>SUV</td>\n",
       "      <td>automatic</td>\n",
       "      <td>5uxzw0c58cl668465</td>\n",
       "      <td>ca</td>\n",
       "      <td>48</td>\n",
       "      <td>50561</td>\n",
       "      <td>black</td>\n",
       "      <td>black</td>\n",
       "      <td>financial services remarketing (lease)</td>\n",
       "      <td>29800</td>\n",
       "      <td>34000</td>\n",
       "      <td>2015-07-08 16:30:00+00:00</td>\n",
       "      <td>2015-07-08</td>\n",
       "      <td>2015</td>\n",
       "      <td>Wednesday</td>\n",
       "      <td>16:30:00</td>\n",
       "      <td>July</td>\n",
       "    </tr>\n",
       "    <tr>\n",
       "      <th>558835</th>\n",
       "      <td>2015</td>\n",
       "      <td>Nissan</td>\n",
       "      <td>Altima</td>\n",
       "      <td>2.5 S</td>\n",
       "      <td>sedan</td>\n",
       "      <td>automatic</td>\n",
       "      <td>1n4al3ap0fc216050</td>\n",
       "      <td>ga</td>\n",
       "      <td>38</td>\n",
       "      <td>16658</td>\n",
       "      <td>white</td>\n",
       "      <td>black</td>\n",
       "      <td>enterprise vehicle exchange / tra / rental / t...</td>\n",
       "      <td>15100</td>\n",
       "      <td>11100</td>\n",
       "      <td>2015-07-09 13:45:00+00:00</td>\n",
       "      <td>2015-07-09</td>\n",
       "      <td>2015</td>\n",
       "      <td>Thursday</td>\n",
       "      <td>13:45:00</td>\n",
       "      <td>July</td>\n",
       "    </tr>\n",
       "    <tr>\n",
       "      <th>558836</th>\n",
       "      <td>2014</td>\n",
       "      <td>Ford</td>\n",
       "      <td>F-150</td>\n",
       "      <td>XLT</td>\n",
       "      <td>SuperCrew</td>\n",
       "      <td>automatic</td>\n",
       "      <td>1ftfw1et2eke87277</td>\n",
       "      <td>ca</td>\n",
       "      <td>34</td>\n",
       "      <td>15008</td>\n",
       "      <td>gray</td>\n",
       "      <td>gray</td>\n",
       "      <td>ford motor credit company llc pd</td>\n",
       "      <td>29600</td>\n",
       "      <td>26700</td>\n",
       "      <td>2015-05-28 12:30:00+00:00</td>\n",
       "      <td>2015-05-28</td>\n",
       "      <td>2015</td>\n",
       "      <td>Thursday</td>\n",
       "      <td>12:30:00</td>\n",
       "      <td>May</td>\n",
       "    </tr>\n",
       "  </tbody>\n",
       "</table>\n",
       "<p>472325 rows × 21 columns</p>\n",
       "</div>"
      ],
      "text/plain": [
       "        year    make                model  ... sale_Weekday sale_Time     Month\n",
       "0       2015     Kia              Sorento  ...      Tuesday  20:30:00  December\n",
       "1       2015     Kia              Sorento  ...      Tuesday  20:30:00  December\n",
       "2       2014     BMW             3 Series  ...     Thursday  12:30:00   January\n",
       "3       2015   Volvo                  S60  ...     Thursday  12:30:00   January\n",
       "4       2014     BMW  6 Series Gran Coupe  ...     Thursday  20:30:00  December\n",
       "...      ...     ...                  ...  ...          ...       ...       ...\n",
       "558831  2011     BMW             5 Series  ...      Tuesday  13:15:00      July\n",
       "558833  2012     Ram                 2500  ...    Wednesday  16:30:00      July\n",
       "558834  2012     BMW                   X5  ...    Wednesday  16:30:00      July\n",
       "558835  2015  Nissan               Altima  ...     Thursday  13:45:00      July\n",
       "558836  2014    Ford                F-150  ...     Thursday  12:30:00       May\n",
       "\n",
       "[472325 rows x 21 columns]"
      ]
     },
     "execution_count": 50,
     "metadata": {},
     "output_type": "execute_result"
    }
   ],
   "source": [
    "df"
   ]
  },
  {
   "cell_type": "code",
   "execution_count": 0,
   "metadata": {
    "application/vnd.databricks.v1+cell": {
     "cellMetadata": {
      "byteLimit": 2048000,
      "rowLimit": 10000
     },
     "inputWidgets": {},
     "nuid": "c93f10f8-d140-4e53-b660-26d99bdeb4b7",
     "showTitle": false,
     "title": ""
    }
   },
   "outputs": [],
   "source": [
    "def predict_car_price(model):\n",
    "    inputs = {}\n",
    "    for feature in numerical_features:\n",
    "        inputs[feature] = float(input(f\"Enter {feature}: \"))\n",
    "    for feature in categorical_features:\n",
    "        inputs[feature] = input(f\"Enter {feature}: \")\n",
    "    input_df = pd.DataFrame([inputs])\n",
    "    prediction = model.predict(input_df)\n",
    "    return prediction[0]"
   ]
  },
  {
   "cell_type": "code",
   "execution_count": 0,
   "metadata": {
    "application/vnd.databricks.v1+cell": {
     "cellMetadata": {
      "byteLimit": 2048000,
      "rowLimit": 10000
     },
     "inputWidgets": {},
     "nuid": "4f24e0bb-3cf3-4081-81e6-d01a95243b78",
     "showTitle": false,
     "title": ""
    }
   },
   "outputs": [
    {
     "output_type": "display_data",
     "data": {
      "text/plain": [
       "Enter year:  2013"
      ]
     },
     "metadata": {},
     "output_type": "display_data"
    },
    {
     "output_type": "display_data",
     "data": {
      "text/plain": [
       "Enter odometer:  38882"
      ]
     },
     "metadata": {},
     "output_type": "display_data"
    },
    {
     "output_type": "display_data",
     "data": {
      "text/plain": [
       "Enter condition:  38"
      ]
     },
     "metadata": {},
     "output_type": "display_data"
    },
    {
     "output_type": "display_data",
     "data": {
      "text/plain": [
       "Enter mmr:  13200"
      ]
     },
     "metadata": {},
     "output_type": "display_data"
    },
    {
     "output_type": "display_data",
     "data": {
      "text/plain": [
       "Enter make:  Toyota"
      ]
     },
     "metadata": {},
     "output_type": "display_data"
    },
    {
     "output_type": "display_data",
     "data": {
      "text/plain": [
       "Enter model:  Camry"
      ]
     },
     "metadata": {},
     "output_type": "display_data"
    },
    {
     "output_type": "display_data",
     "data": {
      "text/plain": [
       "Enter state:  ca"
      ]
     },
     "metadata": {},
     "output_type": "display_data"
    },
    {
     "output_type": "stream",
     "name": "stdout",
     "output_type": "stream",
     "text": [
      "The predicted selling price of the car is: $13246.73\n"
     ]
    }
   ],
   "source": [
    "predicted_price = predict_car_price(Linear_Re)\n",
    "print(f\"The predicted selling price of the car is: ${predicted_price:.2f}\")"
   ]
  },
  {
   "cell_type": "code",
   "execution_count": 0,
   "metadata": {
    "application/vnd.databricks.v1+cell": {
     "cellMetadata": {
      "byteLimit": 2048000,
      "rowLimit": 10000
     },
     "inputWidgets": {},
     "nuid": "e964fe29-3394-4322-9cc2-6e8d4bcd27ea",
     "showTitle": false,
     "title": ""
    }
   },
   "outputs": [
    {
     "output_type": "execute_result",
     "data": {
      "text/html": [
       "<div>\n",
       "<style scoped>\n",
       "    .dataframe tbody tr th:only-of-type {\n",
       "        vertical-align: middle;\n",
       "    }\n",
       "\n",
       "    .dataframe tbody tr th {\n",
       "        vertical-align: top;\n",
       "    }\n",
       "\n",
       "    .dataframe thead th {\n",
       "        text-align: right;\n",
       "    }\n",
       "</style>\n",
       "<table border=\"1\" class=\"dataframe\">\n",
       "  <thead>\n",
       "    <tr style=\"text-align: right;\">\n",
       "      <th></th>\n",
       "      <th>year</th>\n",
       "      <th>make</th>\n",
       "      <th>model</th>\n",
       "      <th>trim</th>\n",
       "      <th>body</th>\n",
       "      <th>transmission</th>\n",
       "      <th>vin</th>\n",
       "      <th>state</th>\n",
       "      <th>condition</th>\n",
       "      <th>odometer</th>\n",
       "      <th>color</th>\n",
       "      <th>interior</th>\n",
       "      <th>seller</th>\n",
       "      <th>mmr</th>\n",
       "      <th>sellingprice</th>\n",
       "      <th>saledate</th>\n",
       "      <th>sale_Date</th>\n",
       "      <th>sale_year</th>\n",
       "      <th>sale_Weekday</th>\n",
       "      <th>sale_Time</th>\n",
       "      <th>Month</th>\n",
       "    </tr>\n",
       "  </thead>\n",
       "  <tbody>\n",
       "    <tr>\n",
       "      <th>562</th>\n",
       "      <td>2013</td>\n",
       "      <td>Toyota</td>\n",
       "      <td>Camry</td>\n",
       "      <td>LE</td>\n",
       "      <td>Sedan</td>\n",
       "      <td>automatic</td>\n",
       "      <td>4t4bf1fk5dr275482</td>\n",
       "      <td>ca</td>\n",
       "      <td>38</td>\n",
       "      <td>38882</td>\n",
       "      <td>red</td>\n",
       "      <td>beige</td>\n",
       "      <td>avis corporation</td>\n",
       "      <td>13200</td>\n",
       "      <td>13500</td>\n",
       "      <td>2014-12-18 19:30:00+00:00</td>\n",
       "      <td>2014-12-18</td>\n",
       "      <td>2014</td>\n",
       "      <td>Thursday</td>\n",
       "      <td>19:30:00</td>\n",
       "      <td>December</td>\n",
       "    </tr>\n",
       "    <tr>\n",
       "      <th>563</th>\n",
       "      <td>2013</td>\n",
       "      <td>Toyota</td>\n",
       "      <td>Camry</td>\n",
       "      <td>XLE</td>\n",
       "      <td>Sedan</td>\n",
       "      <td>automatic</td>\n",
       "      <td>4t1bk1fk0du529833</td>\n",
       "      <td>ca</td>\n",
       "      <td>5</td>\n",
       "      <td>2575</td>\n",
       "      <td>black</td>\n",
       "      <td>gray</td>\n",
       "      <td>the car exchange</td>\n",
       "      <td>21800</td>\n",
       "      <td>22000</td>\n",
       "      <td>2014-12-17 20:30:00+00:00</td>\n",
       "      <td>2014-12-17</td>\n",
       "      <td>2014</td>\n",
       "      <td>Wednesday</td>\n",
       "      <td>20:30:00</td>\n",
       "      <td>December</td>\n",
       "    </tr>\n",
       "    <tr>\n",
       "      <th>699</th>\n",
       "      <td>2013</td>\n",
       "      <td>Toyota</td>\n",
       "      <td>Camry</td>\n",
       "      <td>LE</td>\n",
       "      <td>Sedan</td>\n",
       "      <td>automatic</td>\n",
       "      <td>4t4bf1fk2dr316831</td>\n",
       "      <td>ca</td>\n",
       "      <td>44</td>\n",
       "      <td>13948</td>\n",
       "      <td>beige</td>\n",
       "      <td>beige</td>\n",
       "      <td>toyota financial services</td>\n",
       "      <td>14950</td>\n",
       "      <td>14900</td>\n",
       "      <td>2014-12-23 08:00:00+00:00</td>\n",
       "      <td>2014-12-23</td>\n",
       "      <td>2014</td>\n",
       "      <td>Tuesday</td>\n",
       "      <td>08:00:00</td>\n",
       "      <td>December</td>\n",
       "    </tr>\n",
       "    <tr>\n",
       "      <th>704</th>\n",
       "      <td>2013</td>\n",
       "      <td>Toyota</td>\n",
       "      <td>Camry</td>\n",
       "      <td>SE</td>\n",
       "      <td>Sedan</td>\n",
       "      <td>automatic</td>\n",
       "      <td>4t1bf1fk5du259552</td>\n",
       "      <td>ca</td>\n",
       "      <td>38</td>\n",
       "      <td>30392</td>\n",
       "      <td>black</td>\n",
       "      <td>black</td>\n",
       "      <td>jpmorgan chase bank n.a.</td>\n",
       "      <td>15200</td>\n",
       "      <td>15700</td>\n",
       "      <td>2014-12-18 20:00:00+00:00</td>\n",
       "      <td>2014-12-18</td>\n",
       "      <td>2014</td>\n",
       "      <td>Thursday</td>\n",
       "      <td>20:00:00</td>\n",
       "      <td>December</td>\n",
       "    </tr>\n",
       "    <tr>\n",
       "      <th>740</th>\n",
       "      <td>2013</td>\n",
       "      <td>Toyota</td>\n",
       "      <td>Camry</td>\n",
       "      <td>L</td>\n",
       "      <td>Sedan</td>\n",
       "      <td>automatic</td>\n",
       "      <td>4t1bf1fk4du283826</td>\n",
       "      <td>ca</td>\n",
       "      <td>2</td>\n",
       "      <td>31300</td>\n",
       "      <td>silver</td>\n",
       "      <td>black</td>\n",
       "      <td>enterprise vehicle exchange / tra / rental / t...</td>\n",
       "      <td>13350</td>\n",
       "      <td>11200</td>\n",
       "      <td>2014-12-16 21:00:00+00:00</td>\n",
       "      <td>2014-12-16</td>\n",
       "      <td>2014</td>\n",
       "      <td>Tuesday</td>\n",
       "      <td>21:00:00</td>\n",
       "      <td>December</td>\n",
       "    </tr>\n",
       "    <tr>\n",
       "      <th>...</th>\n",
       "      <td>...</td>\n",
       "      <td>...</td>\n",
       "      <td>...</td>\n",
       "      <td>...</td>\n",
       "      <td>...</td>\n",
       "      <td>...</td>\n",
       "      <td>...</td>\n",
       "      <td>...</td>\n",
       "      <td>...</td>\n",
       "      <td>...</td>\n",
       "      <td>...</td>\n",
       "      <td>...</td>\n",
       "      <td>...</td>\n",
       "      <td>...</td>\n",
       "      <td>...</td>\n",
       "      <td>...</td>\n",
       "      <td>...</td>\n",
       "      <td>...</td>\n",
       "      <td>...</td>\n",
       "      <td>...</td>\n",
       "      <td>...</td>\n",
       "    </tr>\n",
       "    <tr>\n",
       "      <th>558140</th>\n",
       "      <td>2007</td>\n",
       "      <td>Toyota</td>\n",
       "      <td>Camry</td>\n",
       "      <td>LE</td>\n",
       "      <td>sedan</td>\n",
       "      <td>automatic</td>\n",
       "      <td>4t1be46k57u143616</td>\n",
       "      <td>fl</td>\n",
       "      <td>32</td>\n",
       "      <td>51066</td>\n",
       "      <td>silver</td>\n",
       "      <td>gray</td>\n",
       "      <td>ferco motors corp</td>\n",
       "      <td>7850</td>\n",
       "      <td>8000</td>\n",
       "      <td>2015-06-19 09:45:00+00:00</td>\n",
       "      <td>2015-06-19</td>\n",
       "      <td>2015</td>\n",
       "      <td>Friday</td>\n",
       "      <td>09:45:00</td>\n",
       "      <td>June</td>\n",
       "    </tr>\n",
       "    <tr>\n",
       "      <th>558201</th>\n",
       "      <td>2002</td>\n",
       "      <td>Toyota</td>\n",
       "      <td>Camry</td>\n",
       "      <td>SE V6</td>\n",
       "      <td>sedan</td>\n",
       "      <td>automatic</td>\n",
       "      <td>4t1bf32k82u534345</td>\n",
       "      <td>ca</td>\n",
       "      <td>19</td>\n",
       "      <td>190668</td>\n",
       "      <td>green</td>\n",
       "      <td>gray</td>\n",
       "      <td>lithia hyundai of fresno</td>\n",
       "      <td>1975</td>\n",
       "      <td>1600</td>\n",
       "      <td>2015-06-18 13:00:00+00:00</td>\n",
       "      <td>2015-06-18</td>\n",
       "      <td>2015</td>\n",
       "      <td>Thursday</td>\n",
       "      <td>13:00:00</td>\n",
       "      <td>June</td>\n",
       "    </tr>\n",
       "    <tr>\n",
       "      <th>558330</th>\n",
       "      <td>2011</td>\n",
       "      <td>Toyota</td>\n",
       "      <td>Camry</td>\n",
       "      <td>LE</td>\n",
       "      <td>sedan</td>\n",
       "      <td>automatic</td>\n",
       "      <td>4t1bf3ek5bu767899</td>\n",
       "      <td>pa</td>\n",
       "      <td>4</td>\n",
       "      <td>51351</td>\n",
       "      <td>blue</td>\n",
       "      <td>gray</td>\n",
       "      <td>hawthorne auto sales co</td>\n",
       "      <td>10350</td>\n",
       "      <td>10700</td>\n",
       "      <td>2015-06-19 09:00:00+00:00</td>\n",
       "      <td>2015-06-19</td>\n",
       "      <td>2015</td>\n",
       "      <td>Friday</td>\n",
       "      <td>09:00:00</td>\n",
       "      <td>June</td>\n",
       "    </tr>\n",
       "    <tr>\n",
       "      <th>558368</th>\n",
       "      <td>2009</td>\n",
       "      <td>Toyota</td>\n",
       "      <td>Camry</td>\n",
       "      <td>LE</td>\n",
       "      <td>sedan</td>\n",
       "      <td>automatic</td>\n",
       "      <td>4t1be46k09u850089</td>\n",
       "      <td>pa</td>\n",
       "      <td>29</td>\n",
       "      <td>127667</td>\n",
       "      <td>green</td>\n",
       "      <td>beige</td>\n",
       "      <td>adcock brothers inc</td>\n",
       "      <td>6450</td>\n",
       "      <td>5600</td>\n",
       "      <td>2015-06-19 09:00:00+00:00</td>\n",
       "      <td>2015-06-19</td>\n",
       "      <td>2015</td>\n",
       "      <td>Friday</td>\n",
       "      <td>09:00:00</td>\n",
       "      <td>June</td>\n",
       "    </tr>\n",
       "    <tr>\n",
       "      <th>558544</th>\n",
       "      <td>2000</td>\n",
       "      <td>Toyota</td>\n",
       "      <td>Camry</td>\n",
       "      <td>LE</td>\n",
       "      <td>sedan</td>\n",
       "      <td>automatic</td>\n",
       "      <td>4t1bg22k3yu618587</td>\n",
       "      <td>ma</td>\n",
       "      <td>19</td>\n",
       "      <td>129476</td>\n",
       "      <td>silver</td>\n",
       "      <td>gray</td>\n",
       "      <td>boch toyota/scion south</td>\n",
       "      <td>2050</td>\n",
       "      <td>2300</td>\n",
       "      <td>2015-06-18 18:30:00+00:00</td>\n",
       "      <td>2015-06-18</td>\n",
       "      <td>2015</td>\n",
       "      <td>Thursday</td>\n",
       "      <td>18:30:00</td>\n",
       "      <td>June</td>\n",
       "    </tr>\n",
       "  </tbody>\n",
       "</table>\n",
       "<p>10986 rows × 21 columns</p>\n",
       "</div>"
      ],
      "text/plain": [
       "        year    make  model   trim  ... sale_year sale_Weekday sale_Time     Month\n",
       "562     2013  Toyota  Camry     LE  ...      2014     Thursday  19:30:00  December\n",
       "563     2013  Toyota  Camry    XLE  ...      2014    Wednesday  20:30:00  December\n",
       "699     2013  Toyota  Camry     LE  ...      2014      Tuesday  08:00:00  December\n",
       "704     2013  Toyota  Camry     SE  ...      2014     Thursday  20:00:00  December\n",
       "740     2013  Toyota  Camry      L  ...      2014      Tuesday  21:00:00  December\n",
       "...      ...     ...    ...    ...  ...       ...          ...       ...       ...\n",
       "558140  2007  Toyota  Camry     LE  ...      2015       Friday  09:45:00      June\n",
       "558201  2002  Toyota  Camry  SE V6  ...      2015     Thursday  13:00:00      June\n",
       "558330  2011  Toyota  Camry     LE  ...      2015       Friday  09:00:00      June\n",
       "558368  2009  Toyota  Camry     LE  ...      2015       Friday  09:00:00      June\n",
       "558544  2000  Toyota  Camry     LE  ...      2015     Thursday  18:30:00      June\n",
       "\n",
       "[10986 rows x 21 columns]"
      ]
     },
     "execution_count": 123,
     "metadata": {},
     "output_type": "execute_result"
    }
   ],
   "source": [
    "df[df['model']=='Camry']"
   ]
  },
  {
   "cell_type": "code",
   "execution_count": 0,
   "metadata": {
    "application/vnd.databricks.v1+cell": {
     "cellMetadata": {
      "byteLimit": 2048000,
      "rowLimit": 10000
     },
     "inputWidgets": {},
     "nuid": "83da0e0e-c18d-434e-93b6-8b40ef2fc088",
     "showTitle": false,
     "title": ""
    }
   },
   "outputs": [],
   "source": [
    "####the price of the index : 562 of the Camry based on the conditionS ACTUAL PRICE : $13500 PREDICTED WAS : $13246.73 only"
   ]
  },
  {
   "cell_type": "code",
   "execution_count": 0,
   "metadata": {
    "application/vnd.databricks.v1+cell": {
     "cellMetadata": {
      "byteLimit": 2048000,
      "rowLimit": 10000
     },
     "inputWidgets": {},
     "nuid": "9696c3c4-9b5c-4d39-99cb-98ab51d425ee",
     "showTitle": false,
     "title": ""
    }
   },
   "outputs": [],
   "source": [
    "#lets create the models for individual maker or for particular some specific models So our model can predict .close to the actual value. And also by increasing the features for better accuracy . \n",
    "#Lets create the model only for the toyota Sience most of my friends are purchasing the second hand Toyota(Cord)"
   ]
  },
  {
   "cell_type": "code",
   "execution_count": 0,
   "metadata": {
    "application/vnd.databricks.v1+cell": {
     "cellMetadata": {
      "byteLimit": 2048000,
      "rowLimit": 10000
     },
     "inputWidgets": {},
     "nuid": "e82f148e-d4a1-4992-a3f8-5ad388afce27",
     "showTitle": false,
     "title": ""
    }
   },
   "outputs": [],
   "source": [
    "df_Toy = df[(df['make'] == 'Toyota') & (df['model'].isin(['Camry', 'Corolla']))]"
   ]
  },
  {
   "cell_type": "code",
   "execution_count": 0,
   "metadata": {
    "application/vnd.databricks.v1+cell": {
     "cellMetadata": {
      "byteLimit": 2048000,
      "rowLimit": 10000
     },
     "inputWidgets": {},
     "nuid": "144aad29-10a1-4e29-8265-781d8aa55530",
     "showTitle": false,
     "title": ""
    }
   },
   "outputs": [
    {
     "output_type": "execute_result",
     "data": {
      "text/html": [
       "<div>\n",
       "<style scoped>\n",
       "    .dataframe tbody tr th:only-of-type {\n",
       "        vertical-align: middle;\n",
       "    }\n",
       "\n",
       "    .dataframe tbody tr th {\n",
       "        vertical-align: top;\n",
       "    }\n",
       "\n",
       "    .dataframe thead th {\n",
       "        text-align: right;\n",
       "    }\n",
       "</style>\n",
       "<table border=\"1\" class=\"dataframe\">\n",
       "  <thead>\n",
       "    <tr style=\"text-align: right;\">\n",
       "      <th></th>\n",
       "      <th>year</th>\n",
       "      <th>make</th>\n",
       "      <th>model</th>\n",
       "      <th>trim</th>\n",
       "      <th>body</th>\n",
       "      <th>transmission</th>\n",
       "      <th>vin</th>\n",
       "      <th>state</th>\n",
       "      <th>condition</th>\n",
       "      <th>odometer</th>\n",
       "      <th>color</th>\n",
       "      <th>interior</th>\n",
       "      <th>seller</th>\n",
       "      <th>mmr</th>\n",
       "      <th>sellingprice</th>\n",
       "      <th>saledate</th>\n",
       "      <th>sale_Date</th>\n",
       "      <th>sale_year</th>\n",
       "      <th>sale_Weekday</th>\n",
       "      <th>sale_Time</th>\n",
       "      <th>Month</th>\n",
       "    </tr>\n",
       "  </thead>\n",
       "  <tbody>\n",
       "    <tr>\n",
       "      <th>549</th>\n",
       "      <td>2013</td>\n",
       "      <td>Toyota</td>\n",
       "      <td>Corolla</td>\n",
       "      <td>LE</td>\n",
       "      <td>Sedan</td>\n",
       "      <td>automatic</td>\n",
       "      <td>5yfbu4ee5dp216754</td>\n",
       "      <td>ca</td>\n",
       "      <td>1</td>\n",
       "      <td>34915</td>\n",
       "      <td>black</td>\n",
       "      <td>gray</td>\n",
       "      <td>enterprise vehicle exchange / tra / rental / t...</td>\n",
       "      <td>11400</td>\n",
       "      <td>9200</td>\n",
       "      <td>2014-12-16 20:00:00+00:00</td>\n",
       "      <td>2014-12-16</td>\n",
       "      <td>2014</td>\n",
       "      <td>Tuesday</td>\n",
       "      <td>20:00:00</td>\n",
       "      <td>December</td>\n",
       "    </tr>\n",
       "    <tr>\n",
       "      <th>557</th>\n",
       "      <td>2013</td>\n",
       "      <td>Toyota</td>\n",
       "      <td>Corolla</td>\n",
       "      <td>S</td>\n",
       "      <td>Sedan</td>\n",
       "      <td>automatic</td>\n",
       "      <td>2t1bu4ee4dc089995</td>\n",
       "      <td>ca</td>\n",
       "      <td>47</td>\n",
       "      <td>19836</td>\n",
       "      <td>orange</td>\n",
       "      <td>black</td>\n",
       "      <td>consolidated asset recovery systems  inc.</td>\n",
       "      <td>13500</td>\n",
       "      <td>14100</td>\n",
       "      <td>2014-12-17 20:30:00+00:00</td>\n",
       "      <td>2014-12-17</td>\n",
       "      <td>2014</td>\n",
       "      <td>Wednesday</td>\n",
       "      <td>20:30:00</td>\n",
       "      <td>December</td>\n",
       "    </tr>\n",
       "    <tr>\n",
       "      <th>562</th>\n",
       "      <td>2013</td>\n",
       "      <td>Toyota</td>\n",
       "      <td>Camry</td>\n",
       "      <td>LE</td>\n",
       "      <td>Sedan</td>\n",
       "      <td>automatic</td>\n",
       "      <td>4t4bf1fk5dr275482</td>\n",
       "      <td>ca</td>\n",
       "      <td>38</td>\n",
       "      <td>38882</td>\n",
       "      <td>red</td>\n",
       "      <td>beige</td>\n",
       "      <td>avis corporation</td>\n",
       "      <td>13200</td>\n",
       "      <td>13500</td>\n",
       "      <td>2014-12-18 19:30:00+00:00</td>\n",
       "      <td>2014-12-18</td>\n",
       "      <td>2014</td>\n",
       "      <td>Thursday</td>\n",
       "      <td>19:30:00</td>\n",
       "      <td>December</td>\n",
       "    </tr>\n",
       "    <tr>\n",
       "      <th>563</th>\n",
       "      <td>2013</td>\n",
       "      <td>Toyota</td>\n",
       "      <td>Camry</td>\n",
       "      <td>XLE</td>\n",
       "      <td>Sedan</td>\n",
       "      <td>automatic</td>\n",
       "      <td>4t1bk1fk0du529833</td>\n",
       "      <td>ca</td>\n",
       "      <td>5</td>\n",
       "      <td>2575</td>\n",
       "      <td>black</td>\n",
       "      <td>gray</td>\n",
       "      <td>the car exchange</td>\n",
       "      <td>21800</td>\n",
       "      <td>22000</td>\n",
       "      <td>2014-12-17 20:30:00+00:00</td>\n",
       "      <td>2014-12-17</td>\n",
       "      <td>2014</td>\n",
       "      <td>Wednesday</td>\n",
       "      <td>20:30:00</td>\n",
       "      <td>December</td>\n",
       "    </tr>\n",
       "    <tr>\n",
       "      <th>572</th>\n",
       "      <td>2013</td>\n",
       "      <td>Toyota</td>\n",
       "      <td>Corolla</td>\n",
       "      <td>LE</td>\n",
       "      <td>Sedan</td>\n",
       "      <td>automatic</td>\n",
       "      <td>5yfbu4ee7dp143368</td>\n",
       "      <td>ca</td>\n",
       "      <td>1</td>\n",
       "      <td>48744</td>\n",
       "      <td>—</td>\n",
       "      <td>gray</td>\n",
       "      <td>fox rent a car tra</td>\n",
       "      <td>10600</td>\n",
       "      <td>9500</td>\n",
       "      <td>2014-12-16 20:00:00+00:00</td>\n",
       "      <td>2014-12-16</td>\n",
       "      <td>2014</td>\n",
       "      <td>Tuesday</td>\n",
       "      <td>20:00:00</td>\n",
       "      <td>December</td>\n",
       "    </tr>\n",
       "    <tr>\n",
       "      <th>...</th>\n",
       "      <td>...</td>\n",
       "      <td>...</td>\n",
       "      <td>...</td>\n",
       "      <td>...</td>\n",
       "      <td>...</td>\n",
       "      <td>...</td>\n",
       "      <td>...</td>\n",
       "      <td>...</td>\n",
       "      <td>...</td>\n",
       "      <td>...</td>\n",
       "      <td>...</td>\n",
       "      <td>...</td>\n",
       "      <td>...</td>\n",
       "      <td>...</td>\n",
       "      <td>...</td>\n",
       "      <td>...</td>\n",
       "      <td>...</td>\n",
       "      <td>...</td>\n",
       "      <td>...</td>\n",
       "      <td>...</td>\n",
       "      <td>...</td>\n",
       "    </tr>\n",
       "    <tr>\n",
       "      <th>558494</th>\n",
       "      <td>2014</td>\n",
       "      <td>Toyota</td>\n",
       "      <td>Corolla</td>\n",
       "      <td>LE</td>\n",
       "      <td>sedan</td>\n",
       "      <td>automatic</td>\n",
       "      <td>5yfburhe4ep064802</td>\n",
       "      <td>pa</td>\n",
       "      <td>39</td>\n",
       "      <td>34822</td>\n",
       "      <td>silver</td>\n",
       "      <td>gray</td>\n",
       "      <td>avis corporation</td>\n",
       "      <td>12250</td>\n",
       "      <td>12300</td>\n",
       "      <td>2015-06-19 09:00:00+00:00</td>\n",
       "      <td>2015-06-19</td>\n",
       "      <td>2015</td>\n",
       "      <td>Friday</td>\n",
       "      <td>09:00:00</td>\n",
       "      <td>June</td>\n",
       "    </tr>\n",
       "    <tr>\n",
       "      <th>558522</th>\n",
       "      <td>2013</td>\n",
       "      <td>Toyota</td>\n",
       "      <td>Corolla</td>\n",
       "      <td>S</td>\n",
       "      <td>sedan</td>\n",
       "      <td>manual</td>\n",
       "      <td>2t1bu4eexdc970538</td>\n",
       "      <td>pa</td>\n",
       "      <td>42</td>\n",
       "      <td>40610</td>\n",
       "      <td>black</td>\n",
       "      <td>black</td>\n",
       "      <td>r hollenshead auto sales inc</td>\n",
       "      <td>12150</td>\n",
       "      <td>10500</td>\n",
       "      <td>2015-06-19 09:00:00+00:00</td>\n",
       "      <td>2015-06-19</td>\n",
       "      <td>2015</td>\n",
       "      <td>Friday</td>\n",
       "      <td>09:00:00</td>\n",
       "      <td>June</td>\n",
       "    </tr>\n",
       "    <tr>\n",
       "      <th>558532</th>\n",
       "      <td>2010</td>\n",
       "      <td>Toyota</td>\n",
       "      <td>Corolla</td>\n",
       "      <td>S</td>\n",
       "      <td>sedan</td>\n",
       "      <td>automatic</td>\n",
       "      <td>1nxbu4ee6az175965</td>\n",
       "      <td>pa</td>\n",
       "      <td>36</td>\n",
       "      <td>71129</td>\n",
       "      <td>—</td>\n",
       "      <td>black</td>\n",
       "      <td>r hollenshead auto sales inc</td>\n",
       "      <td>8450</td>\n",
       "      <td>8600</td>\n",
       "      <td>2015-06-19 09:00:00+00:00</td>\n",
       "      <td>2015-06-19</td>\n",
       "      <td>2015</td>\n",
       "      <td>Friday</td>\n",
       "      <td>09:00:00</td>\n",
       "      <td>June</td>\n",
       "    </tr>\n",
       "    <tr>\n",
       "      <th>558544</th>\n",
       "      <td>2000</td>\n",
       "      <td>Toyota</td>\n",
       "      <td>Camry</td>\n",
       "      <td>LE</td>\n",
       "      <td>sedan</td>\n",
       "      <td>automatic</td>\n",
       "      <td>4t1bg22k3yu618587</td>\n",
       "      <td>ma</td>\n",
       "      <td>19</td>\n",
       "      <td>129476</td>\n",
       "      <td>silver</td>\n",
       "      <td>gray</td>\n",
       "      <td>boch toyota/scion south</td>\n",
       "      <td>2050</td>\n",
       "      <td>2300</td>\n",
       "      <td>2015-06-18 18:30:00+00:00</td>\n",
       "      <td>2015-06-18</td>\n",
       "      <td>2015</td>\n",
       "      <td>Thursday</td>\n",
       "      <td>18:30:00</td>\n",
       "      <td>June</td>\n",
       "    </tr>\n",
       "    <tr>\n",
       "      <th>558547</th>\n",
       "      <td>2000</td>\n",
       "      <td>Toyota</td>\n",
       "      <td>Corolla</td>\n",
       "      <td>VE</td>\n",
       "      <td>sedan</td>\n",
       "      <td>automatic</td>\n",
       "      <td>2t1br12e0yc282591</td>\n",
       "      <td>ma</td>\n",
       "      <td>19</td>\n",
       "      <td>179890</td>\n",
       "      <td>green</td>\n",
       "      <td>tan</td>\n",
       "      <td>prestige auto mart inc</td>\n",
       "      <td>950</td>\n",
       "      <td>1200</td>\n",
       "      <td>2015-06-18 18:30:00+00:00</td>\n",
       "      <td>2015-06-18</td>\n",
       "      <td>2015</td>\n",
       "      <td>Thursday</td>\n",
       "      <td>18:30:00</td>\n",
       "      <td>June</td>\n",
       "    </tr>\n",
       "  </tbody>\n",
       "</table>\n",
       "<p>17731 rows × 21 columns</p>\n",
       "</div>"
      ],
      "text/plain": [
       "        year    make    model trim  ... sale_year sale_Weekday sale_Time     Month\n",
       "549     2013  Toyota  Corolla   LE  ...      2014      Tuesday  20:00:00  December\n",
       "557     2013  Toyota  Corolla    S  ...      2014    Wednesday  20:30:00  December\n",
       "562     2013  Toyota    Camry   LE  ...      2014     Thursday  19:30:00  December\n",
       "563     2013  Toyota    Camry  XLE  ...      2014    Wednesday  20:30:00  December\n",
       "572     2013  Toyota  Corolla   LE  ...      2014      Tuesday  20:00:00  December\n",
       "...      ...     ...      ...  ...  ...       ...          ...       ...       ...\n",
       "558494  2014  Toyota  Corolla   LE  ...      2015       Friday  09:00:00      June\n",
       "558522  2013  Toyota  Corolla    S  ...      2015       Friday  09:00:00      June\n",
       "558532  2010  Toyota  Corolla    S  ...      2015       Friday  09:00:00      June\n",
       "558544  2000  Toyota    Camry   LE  ...      2015     Thursday  18:30:00      June\n",
       "558547  2000  Toyota  Corolla   VE  ...      2015     Thursday  18:30:00      June\n",
       "\n",
       "[17731 rows x 21 columns]"
      ]
     },
     "execution_count": 105,
     "metadata": {},
     "output_type": "execute_result"
    }
   ],
   "source": [
    "df_Toy"
   ]
  },
  {
   "cell_type": "code",
   "execution_count": 0,
   "metadata": {
    "application/vnd.databricks.v1+cell": {
     "cellMetadata": {
      "byteLimit": 2048000,
      "rowLimit": 10000
     },
     "inputWidgets": {},
     "nuid": "280758f4-429d-4a2e-baa3-4cd263d009dd",
     "showTitle": false,
     "title": ""
    }
   },
   "outputs": [
    {
     "output_type": "stream",
     "name": "stdout",
     "output_type": "stream",
     "text": [
      "Linear Regression R² score: 0.9162928696719689\nR² scores for each fold: [0.94191966 0.93915023 0.94545225 0.86834278 0.93801341]\n"
     ]
    },
    {
     "output_type": "display_data",
     "data": {
      "image/png": "[encoded data removed]",
      "text/plain": [
       "<Figure size 800x400 with 1 Axes>"
      ]
     },
     "metadata": {},
     "output_type": "display_data"
    }
   ],
   "source": [
    "y = df_Toy['sellingprice']\n",
    "X = df_Toy[['year', 'make', 'model', 'odometer', 'condition','mmr','state','trim','body','transmission','interior','Month']]\n",
    "\n",
    "categorical_features = ['make', 'model','state','trim','body','transmission','interior','Month']\n",
    "numerical_features = ['year', 'odometer', 'condition','mmr']\n",
    "preprocessor = ColumnTransformer(\n",
    "    transformers=[\n",
    "        ('num', 'passthrough', numerical_features),\n",
    "        ('cat', OneHotEncoder(handle_unknown='ignore'), categorical_features)\n",
    "    ])\n",
    "linear_Toy = Pipeline([\n",
    "    ('preprocessor', preprocessor),\n",
    "    ('regressor', LinearRegression())\n",
    "])\n",
    "\n",
    "X_train, X_test, y_train, y_test = train_test_split(X, y, test_size=0.2, random_state=42)\n",
    "\n",
    "linear_Toy.fit(X_train, y_train)\n",
    "\n",
    "y_pred = linear_Toy.predict(X_test)\n",
    "print(f'Linear Regression R² score: {r2_score(y_test, y_pred)}')\n",
    "scores_LR = cross_val_score(linear_Toy, X, y, cv=5, scoring='r2')\n",
    "print(\"R² scores for each fold:\", scores_LR)\n",
    "plt.figure(figsize=(8, 4))\n",
    "plt.plot(range(1, len(scores_LR) + 1), scores_LR, marker='o', linestyle='-', color='b')\n",
    "plt.title('Cross-Validation R² Scores')\n",
    "plt.xlabel('Fold Number')\n",
    "plt.ylabel('R² Score')\n",
    "plt.grid(True)\n",
    "plt.xticks(range(1, len(scores_LR) + 1))\n",
    "plt.show()"
   ]
  },
  {
   "cell_type": "code",
   "execution_count": 0,
   "metadata": {
    "application/vnd.databricks.v1+cell": {
     "cellMetadata": {
      "byteLimit": 2048000,
      "rowLimit": 10000
     },
     "inputWidgets": {},
     "nuid": "a48a7360-9ff1-4d7e-9d83-bdbf3f730931",
     "showTitle": false,
     "title": ""
    }
   },
   "outputs": [
    {
     "output_type": "display_data",
     "data": {
      "text/plain": [
       "Enter year:  2014"
      ]
     },
     "metadata": {},
     "output_type": "display_data"
    },
    {
     "output_type": "display_data",
     "data": {
      "text/plain": [
       "Enter odometer:  13219"
      ]
     },
     "metadata": {},
     "output_type": "display_data"
    },
    {
     "output_type": "display_data",
     "data": {
      "text/plain": [
       "Enter condition:  44"
      ]
     },
     "metadata": {},
     "output_type": "display_data"
    },
    {
     "output_type": "display_data",
     "data": {
      "text/plain": [
       "Enter mmr:  17100"
      ]
     },
     "metadata": {},
     "output_type": "display_data"
    },
    {
     "output_type": "display_data",
     "data": {
      "text/plain": [
       "Enter make:  Toyota"
      ]
     },
     "metadata": {},
     "output_type": "display_data"
    },
    {
     "output_type": "display_data",
     "data": {
      "text/plain": [
       "Enter model:  Camry"
      ]
     },
     "metadata": {},
     "output_type": "display_data"
    },
    {
     "output_type": "display_data",
     "data": {
      "text/plain": [
       "Enter state:  fl"
      ]
     },
     "metadata": {},
     "output_type": "display_data"
    },
    {
     "output_type": "display_data",
     "data": {
      "text/plain": [
       "Enter trim:  SE"
      ]
     },
     "metadata": {},
     "output_type": "display_data"
    },
    {
     "output_type": "display_data",
     "data": {
      "text/plain": [
       "Enter body:  Sedan"
      ]
     },
     "metadata": {},
     "output_type": "display_data"
    },
    {
     "output_type": "display_data",
     "data": {
      "text/plain": [
       "Enter transmission:  automatic"
      ]
     },
     "metadata": {},
     "output_type": "display_data"
    },
    {
     "output_type": "display_data",
     "data": {
      "text/plain": [
       "Enter interior:  black"
      ]
     },
     "metadata": {},
     "output_type": "display_data"
    },
    {
     "output_type": "display_data",
     "data": {
      "text/plain": [
       "Enter Month:  December"
      ]
     },
     "metadata": {},
     "output_type": "display_data"
    },
    {
     "output_type": "stream",
     "name": "stdout",
     "output_type": "stream",
     "text": [
      "The predicted selling price of the car for Toyota is: $17228.22\n"
     ]
    }
   ],
   "source": [
    "predicted_price = predict_car_price(linear_Toy)\n",
    "print(f\"The predicted selling price of the car for Toyota is: ${predicted_price:.2f}\")"
   ]
  },
  {
   "cell_type": "code",
   "execution_count": 0,
   "metadata": {
    "application/vnd.databricks.v1+cell": {
     "cellMetadata": {
      "byteLimit": 2048000,
      "rowLimit": 10000
     },
     "inputWidgets": {},
     "nuid": "13e7b410-e996-4782-9d87-715a15aec140",
     "showTitle": false,
     "title": ""
    }
   },
   "outputs": [
    {
     "output_type": "stream",
     "name": "stdout",
     "output_type": "stream",
     "text": [
      "The Actual selling price at index 557 is: 17200\n"
     ]
    },
    {
     "output_type": "execute_result",
     "data": {
      "text/plain": [
       "year                                      2014\n",
       "make                                    Toyota\n",
       "model                                    Camry\n",
       "trim                                        SE\n",
       "body                                     Sedan\n",
       "transmission                         automatic\n",
       "vin                          4t1bf1fk2eu783890\n",
       "state                                       fl\n",
       "condition                                   44\n",
       "odometer                                 13219\n",
       "color                                    white\n",
       "interior                                 black\n",
       "seller          enterprise veh exchange/rental\n",
       "mmr                                      17100\n",
       "sellingprice                             17200\n",
       "saledate             2014-12-19 17:20:00+00:00\n",
       "sale_Date                           2014-12-19\n",
       "sale_year                                 2014\n",
       "sale_Weekday                            Friday\n",
       "sale_Time                             17:20:00\n",
       "Month                                 December\n",
       "Name: 30702, dtype: object"
      ]
     },
     "execution_count": 118,
     "metadata": {},
     "output_type": "execute_result"
    }
   ],
   "source": [
    "print(\"The Actual selling price at index 557 is:\", df_Toy.iloc[557]['sellingprice'])\n",
    "df_Toy.iloc[557]"
   ]
  },
  {
   "cell_type": "code",
   "execution_count": 0,
   "metadata": {
    "application/vnd.databricks.v1+cell": {
     "cellMetadata": {},
     "inputWidgets": {},
     "nuid": "057c1962-51ec-49ac-a57a-67cbf1aa4c2c",
     "showTitle": false,
     "title": ""
    }
   },
   "outputs": [],
   "source": [
    "\n"
   ]
  }
 ],
 "metadata": {
  "application/vnd.databricks.v1+notebook": {
   "dashboards": [],
   "language": "python",
   "notebookMetadata": {
    "mostRecentlyExecutedCommandWithImplicitDF": {
     "commandId": 3681546282513020,
     "dataframes": [
      "_sqldf"
     ]
    },
    "pythonIndentUnit": 4
   },
   "notebookName": "AWS_Instance",
   "widgets": {}
  }
 },
 "nbformat": 4,
 "nbformat_minor": 0
}
